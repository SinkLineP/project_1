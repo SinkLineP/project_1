{
  "nbformat": 4,
  "nbformat_minor": 0,
  "metadata": {
    "colab": {
      "name": "Python3 lection4.ipynb",
      "version": "0.3.2",
      "provenance": [],
      "include_colab_link": true
    },
    "kernelspec": {
      "name": "python3",
      "display_name": "Python 3"
    }
  },
  "cells": [
    {
      "cell_type": "markdown",
      "metadata": {
        "id": "view-in-github",
        "colab_type": "text"
      },
      "source": [
        "<a href=\"https://colab.research.google.com/github/SinkLineP/project_1/blob/master/Python3_lection4.ipynb\" target=\"_parent\"><img src=\"https://colab.research.google.com/assets/colab-badge.svg\" alt=\"Open In Colab\"/></a>"
      ]
    },
    {
      "cell_type": "markdown",
      "metadata": {
        "id": "MYuj6nC-0Ny4",
        "colab_type": "text"
      },
      "source": [
        "# Строки\n",
        "\n",
        "Для объявления строки можно использовать двойные или одинарные кавычки:"
      ]
    },
    {
      "cell_type": "code",
      "metadata": {
        "id": "6tnwcKF-0Vdx",
        "colab_type": "code",
        "outputId": "e7cc2e66-3f86-4798-f98c-4abbe5fd54ba",
        "colab": {
          "base_uri": "https://localhost:8080/",
          "height": 34
        }
      },
      "source": [
        "\"foobar\" == 'foobar'"
      ],
      "execution_count": 0,
      "outputs": [
        {
          "output_type": "execute_result",
          "data": {
            "text/plain": [
              "True"
            ]
          },
          "metadata": {
            "tags": []
          },
          "execution_count": 1
        }
      ]
    },
    {
      "cell_type": "markdown",
      "metadata": {
        "id": "Eo7LOq2n0ZqZ",
        "colab_type": "text"
      },
      "source": [
        "Зачем так много?"
      ]
    },
    {
      "cell_type": "code",
      "metadata": {
        "id": "n4LVV2hf0bFJ",
        "colab_type": "code",
        "outputId": "c3781c14-bdc1-42ca-a5f3-7f9c73b203d7",
        "colab": {
          "base_uri": "https://localhost:8080/",
          "height": 51
        }
      },
      "source": [
        "print('\"Where art thou?\"')\n",
        "print(\"I'm here!\")"
      ],
      "execution_count": 0,
      "outputs": [
        {
          "output_type": "stream",
          "text": [
            "\"Where art thou?\"\n",
            "I'm here!\n"
          ],
          "name": "stdout"
        }
      ]
    },
    {
      "cell_type": "markdown",
      "metadata": {
        "id": "3VVyqIgl00DA",
        "colab_type": "text"
      },
      "source": [
        "Для многострочных блоков текста используют тройные кавычки:"
      ]
    },
    {
      "cell_type": "code",
      "metadata": {
        "id": "q5LxGizq009O",
        "colab_type": "code",
        "outputId": "97f40a8a-39bf-4f08-d2b5-e082ed51ece4",
        "colab": {
          "base_uri": "https://localhost:8080/",
          "height": 34
        }
      },
      "source": [
        "\"\"\"foo\n",
        "bar\"\"\"\n"
      ],
      "execution_count": 0,
      "outputs": [
        {
          "output_type": "execute_result",
          "data": {
            "text/plain": [
              "'foo\\nbar'"
            ]
          },
          "metadata": {
            "tags": []
          },
          "execution_count": 3
        }
      ]
    },
    {
      "cell_type": "markdown",
      "metadata": {
        "id": "_q2jQvh507rv",
        "colab_type": "text"
      },
      "source": [
        "Подряд идущие строковые литералы “склеиваются”:"
      ]
    },
    {
      "cell_type": "code",
      "metadata": {
        "id": "k-RhC8ft0-6w",
        "colab_type": "code",
        "outputId": "90d5ba28-6cae-4ef2-8048-06a167949799",
        "colab": {
          "base_uri": "https://localhost:8080/",
          "height": 34
        }
      },
      "source": [
        "\"foo\" \"bar\""
      ],
      "execution_count": 0,
      "outputs": [
        {
          "output_type": "execute_result",
          "data": {
            "text/plain": [
              "'foobar'"
            ]
          },
          "metadata": {
            "tags": []
          },
          "execution_count": 4
        }
      ]
    },
    {
      "cell_type": "markdown",
      "metadata": {
        "id": "al6vCUko1B4A",
        "colab_type": "text"
      },
      "source": [
        "Строковые литералы могут содержать экранированные последовательности, например:\n",
        "\n",
        "\\' одинарная кавычка,\n",
        "\n",
        "\\\" двойная кавычка,\n",
        "\n",
        "\\t символ вертикальной табуляции,\n",
        "\n",
        "\\n символ переноса строки,\n",
        "\n",
        "\\xhh символ с HEX кодом hh.\n",
        "\n",
        "полный список можно найти по [ссылке](https://docs.python.org/3/reference/lexical_analysis.html#string-and-bytes-literals)\n",
        "\n",
        "В “сырых” строковых литералах экранированные последовательности не обрабатываются."
      ]
    },
    {
      "cell_type": "code",
      "metadata": {
        "id": "xbSdC54W1NG6",
        "colab_type": "code",
        "outputId": "f299bbe0-f690-40bc-f550-1f3e90633c28",
        "colab": {
          "base_uri": "https://localhost:8080/",
          "height": 51
        }
      },
      "source": [
        "print(\"\\tell me\")\n",
        "\n",
        "print(r\"\\tell me\")"
      ],
      "execution_count": 0,
      "outputs": [
        {
          "output_type": "stream",
          "text": [
            "\tell me\n",
            "\\tell me\n"
          ],
          "name": "stdout"
        }
      ]
    },
    {
      "cell_type": "markdown",
      "metadata": {
        "id": "0dSAgJ5p0l2B",
        "colab_type": "text"
      },
      "source": [
        "## Вопрос как создать строку: \"' (двойная кавычка, одинарная)?"
      ]
    },
    {
      "cell_type": "markdown",
      "metadata": {
        "id": "mSIoqMAt2033",
        "colab_type": "text"
      },
      "source": [
        "# Unicode\n",
        "\n",
        "\n",
        "\n",
        "- Юникод — стандарт кодирования текста на разных языках.\n",
        "- В стандарте версии 8.0 содержится более 120 000\n",
        "символов.\n",
        "- Фактически Юникод — это отображение, сопоставляющее\n",
        "символу уникальный номер.\n",
        "- Название кодировок - UTF-8, UTF-16, UTF-32"
      ]
    },
    {
      "cell_type": "markdown",
      "metadata": {
        "id": "9pEAlrGHEYa9",
        "colab_type": "text"
      },
      "source": [
        "Функции преобразования из символа в порядковый номер и обратно"
      ]
    },
    {
      "cell_type": "code",
      "metadata": {
        "id": "by-kWGoWEkvV",
        "colab_type": "code",
        "outputId": "56e23c40-6641-418e-e2b8-2d6bdb0f6fc8",
        "colab": {
          "base_uri": "https://localhost:8080/",
          "height": 119
        }
      },
      "source": [
        "print(ord('h'))\n",
        "print(ord('e'))\n",
        "print(ord('l'))\n",
        "print(ord('l'))\n",
        "print(ord('o'))\n",
        "\n",
        "print(chr(97))"
      ],
      "execution_count": 0,
      "outputs": [
        {
          "output_type": "stream",
          "text": [
            "104\n",
            "101\n",
            "108\n",
            "108\n",
            "111\n",
            "a\n"
          ],
          "name": "stdout"
        }
      ]
    },
    {
      "cell_type": "markdown",
      "metadata": {
        "id": "2HiS_4fgE6ba",
        "colab_type": "text"
      },
      "source": [
        "Итак как сравниваются строки? и почему"
      ]
    },
    {
      "cell_type": "code",
      "metadata": {
        "id": "w1ueZUYxEll_",
        "colab_type": "code",
        "outputId": "1c9d3395-e839-431e-b8aa-643fc090c05a",
        "colab": {
          "base_uri": "https://localhost:8080/",
          "height": 51
        }
      },
      "source": [
        "print('!' < '=')\n",
        "print(ord('!'), ord('='))"
      ],
      "execution_count": 0,
      "outputs": [
        {
          "output_type": "stream",
          "text": [
            "True\n",
            "33 61\n"
          ],
          "name": "stdout"
        }
      ]
    },
    {
      "cell_type": "markdown",
      "metadata": {
        "id": "T5YFANS8FU-3",
        "colab_type": "text"
      },
      "source": [
        "• Python поддерживает экранированные последовательности для символов Юникода:"
      ]
    },
    {
      "cell_type": "code",
      "metadata": {
        "id": "maNLKB7RFPAA",
        "colab_type": "code",
        "outputId": "642a7623-9a00-4b76-b96a-ec427c34b200",
        "colab": {
          "base_uri": "https://localhost:8080/",
          "height": 34
        }
      },
      "source": [
        "\"\\u0068\", \"\\U00000068\""
      ],
      "execution_count": 0,
      "outputs": [
        {
          "output_type": "execute_result",
          "data": {
            "text/plain": [
              "('h', 'h')"
            ]
          },
          "metadata": {
            "tags": []
          },
          "execution_count": 18
        }
      ]
    },
    {
      "cell_type": "markdown",
      "metadata": {
        "id": "DpLLi3l-FeTl",
        "colab_type": "text"
      },
      "source": [
        "Другие методы работы со строками"
      ]
    },
    {
      "cell_type": "code",
      "metadata": {
        "id": "OABTtMpNFgRd",
        "colab_type": "code",
        "outputId": "0329d7a7-0f3a-4ce2-8f0d-b96ce15e0fcb",
        "colab": {
          "base_uri": "https://localhost:8080/",
          "height": 102
        }
      },
      "source": [
        "print(\"foo bar\".capitalize())  # приводит строку как в предложении. Первый символ большой остальные маленькие\n",
        "print(\"foo bar\".title())  # первые буквы слов будут большими\n",
        "print(\"foo bar\".upper())  # все большие буквы\n",
        "print(\"foo bar\".lower())  # все маленькие буквы\n",
        "print(\"Foo bar\".swapcase())  # если буквы маленкия то делает ее большой и наоборот"
      ],
      "execution_count": 0,
      "outputs": [
        {
          "output_type": "stream",
          "text": [
            "Foo bar\n",
            "Foo Bar\n",
            "FOO BAR\n",
            "foo bar\n",
            "fOO bAR\n"
          ],
          "name": "stdout"
        }
      ]
    },
    {
      "cell_type": "markdown",
      "metadata": {
        "id": "7v-Gp0Z9G-CJ",
        "colab_type": "text"
      },
      "source": [
        "Группа методов, заканчивающихся на strip, удаляет все вхождения указанных символов слева, справа или с обоих концов строки:"
      ]
    },
    {
      "cell_type": "code",
      "metadata": {
        "id": "vQ931D53FYCv",
        "colab_type": "code",
        "outputId": "e91598b5-1f78-4115-be89-4561e88f520b",
        "colab": {
          "base_uri": "https://localhost:8080/",
          "height": 68
        }
      },
      "source": [
        "print(\"]>>foo bar<<[\".lstrip(\"]>\"))\n",
        "print(\"]>>foo bar<<[\".rstrip(\"[<\"))\n",
        "print(\"]>>foo bar<<[\".strip(\"[]<>\"))"
      ],
      "execution_count": 0,
      "outputs": [
        {
          "output_type": "stream",
          "text": [
            "foo bar<<[\n",
            "]>>foo bar\n",
            "foo bar\n"
          ],
          "name": "stdout"
        }
      ]
    },
    {
      "cell_type": "markdown",
      "metadata": {
        "id": "seFVU-7SHIHw",
        "colab_type": "text"
      },
      "source": [
        "По умолчанию удаляются все пробелы:\n"
      ]
    },
    {
      "cell_type": "code",
      "metadata": {
        "id": "tO3L9X4PHLXm",
        "colab_type": "code",
        "outputId": "5b8272a7-397e-4e38-c429-bdf1a49a0bc9",
        "colab": {
          "base_uri": "https://localhost:8080/",
          "height": 34
        }
      },
      "source": [
        "print(\"\\t foo bar \\r\\n \".strip())"
      ],
      "execution_count": 0,
      "outputs": [
        {
          "output_type": "stream",
          "text": [
            "foo bar\n"
          ],
          "name": "stdout"
        }
      ]
    },
    {
      "cell_type": "markdown",
      "metadata": {
        "id": "3vj3xyWvHWdW",
        "colab_type": "text"
      },
      "source": [
        "Метод split разделяет строку на подстроки по указанному разделителю:"
      ]
    },
    {
      "cell_type": "code",
      "metadata": {
        "id": "w7nSpWWxHTdV",
        "colab_type": "code",
        "outputId": "c203b86f-c5ad-47f3-93ac-3be1f98858aa",
        "colab": {
          "base_uri": "https://localhost:8080/",
          "height": 51
        }
      },
      "source": [
        "print(\"foo,bar\".split(\",\"))\n",
        "print(\"foo,,,bar\".split(\",\"))\n"
      ],
      "execution_count": 0,
      "outputs": [
        {
          "output_type": "stream",
          "text": [
            "['foo', 'bar']\n",
            "['foo', '', '', 'bar']\n"
          ],
          "name": "stdout"
        }
      ]
    },
    {
      "cell_type": "markdown",
      "metadata": {
        "id": "BS1j_LubHjVK",
        "colab_type": "text"
      },
      "source": [
        "- С помощью метода join можно соединить любую последовательность строк:"
      ]
    },
    {
      "cell_type": "code",
      "metadata": {
        "id": "3OMc826MHcUU",
        "colab_type": "code",
        "outputId": "2b1fb0da-5ae4-42e8-9f32-bec1927a509e",
        "colab": {
          "base_uri": "https://localhost:8080/",
          "height": 68
        }
      },
      "source": [
        "print(\", \".join([\"foo\", \"bar\", \"baz\"]))\n",
        "print(\", \".join(filter(None, [\"\", \"foo\"])))\n",
        "print(\", \".join(\"bar\"))\n"
      ],
      "execution_count": 0,
      "outputs": [
        {
          "output_type": "stream",
          "text": [
            "foo, bar, baz\n",
            "foo\n",
            "b, a, r\n"
          ],
          "name": "stdout"
        }
      ]
    },
    {
      "cell_type": "markdown",
      "metadata": {
        "id": "3DlMEj4JHu_k",
        "colab_type": "text"
      },
      "source": [
        "Вхождение подстроки идиоматично проверять с помощью операторов in и not in:"
      ]
    },
    {
      "cell_type": "code",
      "metadata": {
        "id": "8UVU1gDYHxqP",
        "colab_type": "code",
        "outputId": "9a5991e5-4b0f-47ee-c45e-d07eed669e7e",
        "colab": {
          "base_uri": "https://localhost:8080/",
          "height": 34
        }
      },
      "source": [
        "print(\"foo\" in \"foobar\")"
      ],
      "execution_count": 0,
      "outputs": [
        {
          "output_type": "stream",
          "text": [
            "True\n"
          ],
          "name": "stdout"
        }
      ]
    },
    {
      "cell_type": "markdown",
      "metadata": {
        "id": "p8n0q3DHH2QY",
        "colab_type": "text"
      },
      "source": [
        "Также можно сравнивать префикс или суффикс строки с одной или несколькими строками:"
      ]
    },
    {
      "cell_type": "code",
      "metadata": {
        "id": "y6NXlFtkHrii",
        "colab_type": "code",
        "outputId": "460afd01-a444-4958-889a-ce43686c34bf",
        "colab": {
          "base_uri": "https://localhost:8080/",
          "height": 51
        }
      },
      "source": [
        "print(\"foobar\".startswith(\"foo\"))\n",
        "print(\"foobar\".endswith((\"boo\", \"bar\")))"
      ],
      "execution_count": 0,
      "outputs": [
        {
          "output_type": "stream",
          "text": [
            "True\n",
            "True\n"
          ],
          "name": "stdout"
        }
      ]
    },
    {
      "cell_type": "markdown",
      "metadata": {
        "id": "82ybSjofIDLB",
        "colab_type": "text"
      },
      "source": [
        "Метод replace заменяет вхождения подстроки на заданную строку, по умолчанию — все:"
      ]
    },
    {
      "cell_type": "code",
      "metadata": {
        "id": "iYbSiPF0H8kg",
        "colab_type": "code",
        "outputId": "6c2f3593-1a8e-4779-e97f-fca5a849ba6e",
        "colab": {
          "base_uri": "https://localhost:8080/",
          "height": 51
        }
      },
      "source": [
        "print(\"abracadabra\".replace(\"ra\", \"**\"))\n",
        "print(\"abracadabra\".replace(\"ra\", \"**\", 1))\n"
      ],
      "execution_count": 0,
      "outputs": [
        {
          "output_type": "stream",
          "text": [
            "ab**cadab**\n",
            "ab**cadabra\n"
          ],
          "name": "stdout"
        }
      ]
    },
    {
      "cell_type": "markdown",
      "metadata": {
        "id": "pr6tYE_MIKT4",
        "colab_type": "text"
      },
      "source": [
        "Методы-предикаты позволяют проверить строку на соответствие некоторому формату, например:"
      ]
    },
    {
      "cell_type": "code",
      "metadata": {
        "id": "paB4mSQNIG-3",
        "colab_type": "code",
        "outputId": "34f4ddde-1669-42a8-bf7f-3cb4ac58e5a8",
        "colab": {
          "base_uri": "https://localhost:8080/",
          "height": 68
        }
      },
      "source": [
        "print(\"100500\".isdigit())\n",
        "print(\"foo100500\".isalnum())\n",
        "print(\"foobar\".isalpha())"
      ],
      "execution_count": 0,
      "outputs": [
        {
          "output_type": "stream",
          "text": [
            "True\n",
            "True\n",
            "True\n"
          ],
          "name": "stdout"
        }
      ]
    },
    {
      "cell_type": "markdown",
      "metadata": {
        "id": "722ikJWnInsW",
        "colab_type": "text"
      },
      "source": [
        "Другие полезные предикаты:"
      ]
    },
    {
      "cell_type": "code",
      "metadata": {
        "id": "SBidgPXlIXsi",
        "colab_type": "code",
        "outputId": "f94d320d-a41f-446a-f78e-370335440cc7",
        "colab": {
          "base_uri": "https://localhost:8080/",
          "height": 85
        }
      },
      "source": [
        "print(\"foobar\".islower())\n",
        "print(\"FOOBAR\".isupper())\n",
        "print(\"Foo Bar\".istitle())\n",
        "print(\"\\r \\n\\t \\r\\n\".isspace())"
      ],
      "execution_count": 0,
      "outputs": [
        {
          "output_type": "stream",
          "text": [
            "True\n",
            "True\n",
            "True\n",
            "True\n"
          ],
          "name": "stdout"
        }
      ]
    },
    {
      "cell_type": "markdown",
      "metadata": {
        "id": "XmGNYVPCToIN",
        "colab_type": "text"
      },
      "source": [
        "# Домашнее задание\n",
        "\n",
        "1. Написать программу которая считает кол-во символов в введенной строки\n",
        "\n",
        "например мы вводим\n",
        "\n",
        "hello world\n",
        "\n",
        "Программа должна вывести\n",
        "\n",
        "h - 1\n",
        "\n",
        "e - 1\n",
        "\n",
        "l - 3\n",
        "\n",
        "o - 2\n",
        "\n",
        "w - 1\n",
        "\n",
        "r - 1\n",
        "\n",
        "d - 1"
      ]
    },
    {
      "cell_type": "markdown",
      "metadata": {
        "id": "oCNeSAtKUJV9",
        "colab_type": "text"
      },
      "source": [
        "2. Написать программу которая выводит самае длинное слово во введенной строке\n",
        "\n"
      ]
    },
    {
      "cell_type": "markdown",
      "metadata": {
        "id": "qv5Q9PjaVGoF",
        "colab_type": "text"
      },
      "source": [
        "3. Написать программу которая переворачивает все слова в предложении. ВНИМАНИЕ не перевернуть строку, а перевернуть отдельно слова в предложении."
      ]
    },
    {
      "cell_type": "code",
      "metadata": {
        "id": "SXTa6AxtIt8h",
        "colab_type": "code",
        "colab": {}
      },
      "source": [
        ""
      ],
      "execution_count": 0,
      "outputs": []
    }
  ]
}