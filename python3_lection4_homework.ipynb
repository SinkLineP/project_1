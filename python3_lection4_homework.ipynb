{
  "nbformat": 4,
  "nbformat_minor": 0,
  "metadata": {
    "colab": {
      "name": "python3 lection4 homework.ipynb",
      "version": "0.3.2",
      "provenance": [],
      "include_colab_link": true
    },
    "kernelspec": {
      "name": "python3",
      "display_name": "Python 3"
    }
  },
  "cells": [
    {
      "cell_type": "markdown",
      "metadata": {
        "id": "view-in-github",
        "colab_type": "text"
      },
      "source": [
        "<a href=\"https://colab.research.google.com/github/SinkLineP/project_1/blob/master/python3_lection4_homework.ipynb\" target=\"_parent\"><img src=\"https://colab.research.google.com/assets/colab-badge.svg\" alt=\"Open In Colab\"/></a>"
      ]
    },
    {
      "cell_type": "markdown",
      "metadata": {
        "id": "8LAVmUvR3iaf",
        "colab_type": "text"
      },
      "source": [
        "# Домашнее задание\n"
      ]
    },
    {
      "cell_type": "markdown",
      "metadata": {
        "id": "kKJFAaek3gak",
        "colab_type": "text"
      },
      "source": [
        "\n",
        "1. Написать программу которая считает кол-во символов в введенной строки\n",
        "\n",
        "например мы вводим\n",
        "\n",
        "hello world\n",
        "\n",
        "Программа должна вывести\n",
        "\n",
        "h - 1\n",
        "\n",
        "e - 1\n",
        "\n",
        "l - 3\n",
        "\n",
        "o - 2\n",
        "\n",
        "w - 1\n",
        "\n",
        "r - 1\n",
        "\n",
        "d - 1"
      ]
    },
    {
      "cell_type": "code",
      "metadata": {
        "id": "hNmoNOL33lLT",
        "colab_type": "code",
        "outputId": "22a7a469-cac2-4149-a529-6245af470f29",
        "colab": {
          "base_uri": "https://localhost:8080/",
          "height": 153
        }
      },
      "source": [
        "from collections import Counter\n",
        "\n",
        "def count_symbols(text):\n",
        "    text_out_spaces = text.replace(' ','')\n",
        "    str_in_dict = dict(Counter(text_out_spaces))\n",
        "    for k,v in str_in_dict.items():\n",
        "        print(f\"{k}-{v}\")\n",
        "\n",
        "count_symbols(input())"
      ],
      "execution_count": 0,
      "outputs": [
        {
          "output_type": "stream",
          "text": [
            "Hello world\n",
            "H-1\n",
            "e-1\n",
            "l-3\n",
            "o-2\n",
            "w-1\n",
            "r-1\n",
            "d-1\n"
          ],
          "name": "stdout"
        }
      ]
    },
    {
      "cell_type": "code",
      "metadata": {
        "id": "7m3ZIaQg3-Bl",
        "colab_type": "code",
        "outputId": "14877e73-b14e-4391-fa44-d3b0a8740fd0",
        "colab": {
          "base_uri": "https://localhost:8080/",
          "height": 170
        }
      },
      "source": [
        "def symbols_in_word(slovo):\n",
        "    slovo_set = set(slovo)\n",
        "    for el in slovo_set:\n",
        "        print(f'{el} = {slovo.count(el, 0, len(slovo))}')\n",
        "\n",
        "\n",
        "slovo = input('Enter a word')\n",
        "symbols_in_word(slovo)"
      ],
      "execution_count": 0,
      "outputs": [
        {
          "output_type": "stream",
          "text": [
            "Enter a wordHello world\n",
            "H = 1\n",
            "o = 2\n",
            "w = 1\n",
            "l = 3\n",
            "d = 1\n",
            "r = 1\n",
            "  = 1\n",
            "e = 1\n"
          ],
          "name": "stdout"
        }
      ]
    },
    {
      "cell_type": "code",
      "metadata": {
        "id": "2ROoVVMh4qdj",
        "colab_type": "code",
        "outputId": "9f744f17-5459-4405-bace-21a60fee95d3",
        "colab": {
          "base_uri": "https://localhost:8080/",
          "height": 136
        }
      },
      "source": [
        "text = \"hello world\"\n",
        "d = dict.fromkeys(text, 0)\n",
        "for c in text: d[c] += 1\n",
        "h = (d ['h'])\n",
        "e = (d ['e'])\n",
        "l = (d ['l'])\n",
        "o = (d ['o'])\n",
        "w = (d ['w'])\n",
        "r = (d ['r'])\n",
        "d = (d ['d'])\n",
        "print(\"h - {}\".format (h))\n",
        "print(\"e - {}\".format (e))\n",
        "print(\"l - {}\".format (l))\n",
        "print(\"o - {}\".format (o))\n",
        "print(\"w - {}\".format (w))\n",
        "print(\"r - {}\".format (r))\n",
        "print(\"d - {}\".format (d))"
      ],
      "execution_count": 0,
      "outputs": [
        {
          "output_type": "stream",
          "text": [
            "h - 1\n",
            "e - 1\n",
            "l - 3\n",
            "o - 2\n",
            "w - 1\n",
            "r - 1\n",
            "d - 1\n"
          ],
          "name": "stdout"
        }
      ]
    },
    {
      "cell_type": "markdown",
      "metadata": {
        "id": "Br-DeS6n5g1Q",
        "colab_type": "text"
      },
      "source": [
        "2. Написать программу которая выводит самае длинное слово во введенной строке\n"
      ]
    },
    {
      "cell_type": "code",
      "metadata": {
        "id": "RICThf3v4ujU",
        "colab_type": "code",
        "outputId": "94c4ead1-f48c-481e-8076-50994953f4ed",
        "colab": {
          "base_uri": "https://localhost:8080/",
          "height": 51
        }
      },
      "source": [
        "b = str(input(\"Введите текст: \"))\n",
        "s = b\n",
        "a = max(s.split(), key=len)\n",
        "print(\"Самое длинное слово: {}\".format (a))"
      ],
      "execution_count": 0,
      "outputs": [
        {
          "output_type": "stream",
          "text": [
            "Введите текст: hello world one two three commonsfdf\n",
            "Самое длинное слово: commonsfdf\n"
          ],
          "name": "stdout"
        }
      ]
    },
    {
      "cell_type": "code",
      "metadata": {
        "id": "PmGTlIX852Zs",
        "colab_type": "code",
        "outputId": "92b7ccd9-b98d-4e9b-cbbd-c7956b6692cb",
        "colab": {
          "base_uri": "https://localhost:8080/",
          "height": 51
        }
      },
      "source": [
        "import re\n",
        "\n",
        "def longest_word(text):\n",
        "    list_words = (re.findall(r'\\w+', text))\n",
        "    var = 0\n",
        "    for i in list_words:\n",
        "        if len(i) > var:\n",
        "            var = len(i)\n",
        "            max_word = i\n",
        "    print(max_word)\n",
        "\n",
        "longest_word(input())"
      ],
      "execution_count": 0,
      "outputs": [
        {
          "output_type": "stream",
          "text": [
            "hello world one two three commonsfdf\n",
            "commonsfdf\n"
          ],
          "name": "stdout"
        }
      ]
    },
    {
      "cell_type": "code",
      "metadata": {
        "id": "0TuOq3tx5lQ8",
        "colab_type": "code",
        "outputId": "705f439e-5b43-433b-c880-6c63944c8d92",
        "colab": {
          "base_uri": "https://localhost:8080/",
          "height": 51
        }
      },
      "source": [
        "def most_length(predlogenie):\n",
        "    b = list()\n",
        "    for el in predlogenie.split(\" \"):\n",
        "        pure_word = list(filter(lambda x: x.isalnum(), el))\n",
        "        if len(b) < len(pure_word):\n",
        "            b = ''.join(pure_word)\n",
        "    print(b)\n",
        "\n",
        "\n",
        "p = input(\"Vvedite predlogenie\")\n",
        "most_length(p)"
      ],
      "execution_count": 0,
      "outputs": [
        {
          "output_type": "stream",
          "text": [
            "Vvedite predlogeniehello world one two three commonsfdf\n",
            "commonsfdf\n"
          ],
          "name": "stdout"
        }
      ]
    },
    {
      "cell_type": "markdown",
      "metadata": {
        "id": "qZOb_UzC65Ri",
        "colab_type": "text"
      },
      "source": [
        "3. Написать программу которая переворачивает все слова в предложении. ВНИМАНИЕ не перевернуть строку, а перевернуть отдельно слова в предложении."
      ]
    },
    {
      "cell_type": "code",
      "metadata": {
        "id": "Hv_86Jau664v",
        "colab_type": "code",
        "outputId": "8313745b-e7da-4809-91c7-7d1606563af0",
        "colab": {
          "base_uri": "https://localhost:8080/",
          "height": 68
        }
      },
      "source": [
        "a = input(\"Введите текст: \")\n",
        "line = a.split()\n",
        "z = [x[::-1] for x in line]\n",
        "print(\"------------------------\")\n",
        "print(*z)"
      ],
      "execution_count": 0,
      "outputs": [
        {
          "output_type": "stream",
          "text": [
            "Введите текст: Vvedite predlogeniehello world one two three commonsfdf commonsfdf\n",
            "------------------------\n",
            "etidevV olleheinegolderp dlrow eno owt eerht fdfsnommoc fdfsnommoc\n"
          ],
          "name": "stdout"
        }
      ]
    },
    {
      "cell_type": "code",
      "metadata": {
        "id": "fmTnzaAh7SuV",
        "colab_type": "code",
        "outputId": "e44fa343-0065-4b4c-fcdf-b84e2ec7b3db",
        "colab": {
          "base_uri": "https://localhost:8080/",
          "height": 34
        }
      },
      "source": [
        "def reverse_words_in_sentence(sentence):\n",
        "    new_sentence = str()\n",
        "    word_flag = False\n",
        "    for i, el in enumerate(sentence):\n",
        "        if el.isalnum() and (i == 0 or not sentence[i-1].isalnum()):\n",
        "            first_letter = i\n",
        "            word_flag = True\n",
        "        if not el.isalnum() and word_flag:\n",
        "            afterlast_letter = i\n",
        "            word_flag = False\n",
        "            new_sentence += ''.join(reversed(list(sentence[first_letter:afterlast_letter])))\n",
        "            new_sentence += sentence[i]\n",
        "        elif not el.isalnum() and not word_flag:\n",
        "            new_sentence += el\n",
        "        if i == (len(sentence) - 1) and el.isalnum and word_flag:\n",
        "            afterlast_letter = i\n",
        "            new_sentence += ''.join(reversed(list(sentence[first_letter:afterlast_letter+1])))\n",
        "    print(new_sentence)\n",
        "\n",
        "\n",
        "p = '---Ура! Заработало!!!---'\n",
        "reverse_words_in_sentence(p)"
      ],
      "execution_count": 0,
      "outputs": [
        {
          "output_type": "stream",
          "text": [
            "---арУ! олатобараЗ!!!---\n"
          ],
          "name": "stdout"
        }
      ]
    },
    {
      "cell_type": "code",
      "metadata": {
        "id": "y9tKF5197hJh",
        "colab_type": "code",
        "outputId": "20897a3b-470c-4193-f47a-2401f8ef4b77",
        "colab": {
          "base_uri": "https://localhost:8080/",
          "height": 51
        }
      },
      "source": [
        "def reversed_list(text):\n",
        "    list_words = text.split()\n",
        "    new_text = \"\"\n",
        "    for i in list_words:\n",
        "        reversed_word = \"\".join(reversed(i))\n",
        "        new_text = new_text + \" \" + reversed_word\n",
        "    print(new_text.lstrip(\" \"))\n",
        "reversed_list(input())"
      ],
      "execution_count": 0,
      "outputs": [
        {
          "output_type": "stream",
          "text": [
            "---арУ! олатобараЗ!!!---\n",
            "!Ура--- ---!!!Заработало\n"
          ],
          "name": "stdout"
        }
      ]
    },
    {
      "cell_type": "code",
      "metadata": {
        "id": "7JjdRhbT7_tx",
        "colab_type": "code",
        "outputId": "0d0ac00d-b591-40ad-ef5f-3ce6cb88502f",
        "colab": {
          "base_uri": "https://localhost:8080/",
          "height": 34
        }
      },
      "source": [
        "import re\n",
        "\n",
        "def reverse_words(str):\n",
        "  def repl(match):\n",
        "    return match.group(0)[::-1]\n",
        "\n",
        "  return re.sub(r'\\b\\w+\\b', repl, str)\n",
        "\n",
        "print(reverse_words('Python is an interpreted, object-oriented, high-level programming language with dynamic semantics.'))"
      ],
      "execution_count": 0,
      "outputs": [
        {
          "output_type": "stream",
          "text": [
            "nohtyP si na deterpretni, tcejbo-detneiro, hgih-level gnimmargorp egaugnal htiw cimanyd scitnames.\n"
          ],
          "name": "stdout"
        }
      ]
    },
    {
      "cell_type": "code",
      "metadata": {
        "id": "8z4dMmUf8AH9",
        "colab_type": "code",
        "colab": {}
      },
      "source": [
        ""
      ],
      "execution_count": 0,
      "outputs": []
    }
  ]
}