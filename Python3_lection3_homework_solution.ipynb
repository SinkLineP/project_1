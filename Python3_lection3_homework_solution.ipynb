{
  "nbformat": 4,
  "nbformat_minor": 0,
  "metadata": {
    "colab": {
      "name": "Python3 lection3 homework solution",
      "version": "0.3.2",
      "provenance": [],
      "collapsed_sections": [],
      "include_colab_link": true
    },
    "kernelspec": {
      "name": "python3",
      "display_name": "Python 3"
    }
  },
  "cells": [
    {
      "cell_type": "markdown",
      "metadata": {
        "id": "view-in-github",
        "colab_type": "text"
      },
      "source": [
        "<a href=\"https://colab.research.google.com/github/SinkLineP/project_1/blob/master/Python3_lection3_homework_solution.ipynb\" target=\"_parent\"><img src=\"https://colab.research.google.com/assets/colab-badge.svg\" alt=\"Open In Colab\"/></a>"
      ]
    },
    {
      "cell_type": "markdown",
      "metadata": {
        "id": "zkjuy_tJPxM0",
        "colab_type": "text"
      },
      "source": [
        "# Python homework 3"
      ]
    },
    {
      "cell_type": "markdown",
      "metadata": {
        "id": "6cS8FtoQt-j5",
        "colab_type": "text"
      },
      "source": [
        "1. Пользователь вводит строку, проверить является ли она [палиндромом](https://ru.wikipedia.org/wiki/%D0%9F%D0%B0%D0%BB%D0%B8%D0%BD%D0%B4%D1%80%D0%BE%D0%BC)\n",
        "\n",
        "Палиндром - число, буквосочетание, слово или текст, одинаково читающееся в обоих направлениях. Например, число 101; слова «топот» в русском языке и фин. saippuakivikauppias (продавец мыла; торговец щёлоком) — самое длинное слово-палиндром в мире; текст «а роза упала на лапу Азора» и пр.\n",
        "\n",
        "### Примеры палиндромов:\n",
        "\n",
        "А роза упала на лапу Азора\n",
        "\n",
        "Аргентина манит негра\n",
        "\n",
        "Я иду с мечем судия\n",
        "\n",
        "Я — арка края\n",
        "\n",
        "О, лета тело"
      ]
    },
    {
      "cell_type": "code",
      "metadata": {
        "id": "h7Sasc39P-eZ",
        "colab_type": "code",
        "colab": {}
      },
      "source": [
        "TESTS = [\n",
        "    \"А роза упала на лапу Азора\",\n",
        "    \"Аргентина манит негра\",\n",
        "    \"Я иду с мечем судия\",\n",
        "    \"Я - арка края\",\n",
        "    \"О, лета тело\",\n",
        "]\n",
        "  \n",
        "def test_solution(func):\n",
        "  correct = 0\n",
        "  total = 0\n",
        "  for t in TESTS:\n",
        "    if func(t):\n",
        "      correct += 1\n",
        "      \n",
        "    total += 1\n",
        "    \n",
        "  return correct / total"
      ],
      "execution_count": 0,
      "outputs": []
    },
    {
      "cell_type": "code",
      "metadata": {
        "id": "P4vmPsOBP0pj",
        "colab_type": "code",
        "outputId": "af6f9b98-4ba1-4988-d9ae-074227e6f571",
        "colab": {
          "base_uri": "https://localhost:8080/",
          "height": 34
        }
      },
      "source": [
        "import re\n",
        "\n",
        "def is_palindrome(a):\n",
        "    lower_string = a.lower()\n",
        "    without_punctuation = (re.findall(r'\\w+', lower_string))\n",
        "    list_in_str = \"\".join(without_punctuation)\n",
        "    inverted = \"\".join(reversed(list_in_str))\n",
        "    if inverted == list_in_str:\n",
        "        return True\n",
        "    else:\n",
        "        return False\n",
        "\n",
        "print(test_solution(is_palindrome))\n"
      ],
      "execution_count": 0,
      "outputs": [
        {
          "output_type": "stream",
          "text": [
            "1.0\n"
          ],
          "name": "stdout"
        }
      ]
    },
    {
      "cell_type": "code",
      "metadata": {
        "id": "p_-Vzp2OQnhp",
        "colab_type": "code",
        "outputId": "284b7261-6667-4a1c-b194-da6013d97d67",
        "colab": {
          "base_uri": "https://localhost:8080/",
          "height": 34
        }
      },
      "source": [
        "def is_it_polyndrom(example):\n",
        "    str_to_compare = list()\n",
        "    for s in example.lower():\n",
        "        if s.isalpha() or s.isdigit():\n",
        "            str_to_compare += s\n",
        "    a = True if str_to_compare == list(reversed(str_to_compare)) else False\n",
        "    return a\n",
        "\n",
        "print(test_solution(is_it_polyndrom))"
      ],
      "execution_count": 0,
      "outputs": [
        {
          "output_type": "stream",
          "text": [
            "1.0\n"
          ],
          "name": "stdout"
        }
      ]
    },
    {
      "cell_type": "code",
      "metadata": {
        "id": "et0gbUmo_HaK",
        "colab_type": "code",
        "outputId": "72015471-8e47-44e8-c237-bc24290fb919",
        "colab": {
          "base_uri": "https://localhost:8080/",
          "height": 34
        }
      },
      "source": [
        "def palindrom(a):\n",
        "  b = a.lower() # convert original text to lowercase text.\n",
        "  c = list(b) # convert string to list data type\n",
        "  d = filter(lambda i: i != ' ' and i != ',' and i != '-' and \n",
        "           i != ':' and i != ';', c) # exclude symbols from the text\n",
        "  e = list(d)\n",
        "  f = \"\".join(e) # join data from the list in one string\n",
        "  g = (\"\".join(reversed(f))) # reverse the original string\n",
        "  if f == g:\n",
        "    return True\n",
        "  else:\n",
        "    return False\n",
        "  \n",
        "print(test_solution(palindrom))"
      ],
      "execution_count": 0,
      "outputs": [
        {
          "output_type": "stream",
          "text": [
            "1.0\n"
          ],
          "name": "stdout"
        }
      ]
    },
    {
      "cell_type": "code",
      "metadata": {
        "id": "qZhcB7J6s-Pt",
        "colab_type": "code",
        "outputId": "2954fd1a-86ac-48a1-ec1c-283ed401a689",
        "colab": {
          "base_uri": "https://localhost:8080/",
          "height": 34
        }
      },
      "source": [
        "def palindrom2(b):\n",
        "  z = (b.lower())\n",
        "  w = z.replace(\" \", \"\")\n",
        "  l = \"\".join(w for w in w if w not in ('!','.',':',',','?',';','-','_','|'))\n",
        "  w = l\n",
        "  s = w\n",
        "  (list(s))\n",
        "  a = (\"\".join(s[::-1]))\n",
        "\n",
        "  if s == a:\n",
        "    return True\n",
        "  else:\n",
        "    return False\n",
        "print(test_solution(palindrom2))"
      ],
      "execution_count": 0,
      "outputs": [
        {
          "output_type": "stream",
          "text": [
            "1.0\n"
          ],
          "name": "stdout"
        }
      ]
    },
    {
      "cell_type": "markdown",
      "metadata": {
        "id": "KLCJlLNFuBly",
        "colab_type": "text"
      },
      "source": [
        "2. Создать функцию которая принимает массив целых чисел. Нужно найти наименьшее положительное число которое не входит макссив.\n",
        "\n",
        "**Например для массива:**\n",
        "\n",
        "[5,4] \n",
        "\n",
        "Ответ будет\n",
        "\n",
        "1 (0 не является положительным числом)\n",
        "\n",
        "\n",
        "\n",
        "**Пример 2:**\n",
        "\n",
        "[1, 4, 2, 3]\n",
        "\n",
        "Ответ\n",
        "\n",
        "5\n",
        "\n",
        "примерный вид\n",
        "\n",
        "  "
      ]
    },
    {
      "cell_type": "code",
      "metadata": {
        "id": "IIFR_Ou7tQnh",
        "colab_type": "code",
        "outputId": "2304ec9f-5f81-420e-c94f-c7041b06da35",
        "colab": {
          "base_uri": "https://localhost:8080/",
          "height": 68
        }
      },
      "source": [
        "def min_number(a):\n",
        "    c = 1\n",
        "    while c in a:\n",
        "        c = c + 1\n",
        "    print(c)\n",
        "min_number([1, 0, -2, 2])\n",
        "min_number([1, 4, 2, 3])\n",
        "min_number([5, 4])"
      ],
      "execution_count": 0,
      "outputs": [
        {
          "output_type": "stream",
          "text": [
            "3\n",
            "5\n",
            "1\n"
          ],
          "name": "stdout"
        }
      ]
    },
    {
      "cell_type": "code",
      "metadata": {
        "id": "E6ZMulXbufag",
        "colab_type": "code",
        "colab": {}
      },
      "source": [
        ""
      ],
      "execution_count": 0,
      "outputs": []
    }
  ]
}