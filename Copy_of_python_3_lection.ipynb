{
  "nbformat": 4,
  "nbformat_minor": 0,
  "metadata": {
    "colab": {
      "name": "Copy of python 3 lection.ipynb",
      "version": "0.3.2",
      "provenance": [],
      "collapsed_sections": [],
      "include_colab_link": true
    },
    "kernelspec": {
      "name": "python3",
      "display_name": "Python 3"
    }
  },
  "cells": [
    {
      "cell_type": "markdown",
      "metadata": {
        "id": "view-in-github",
        "colab_type": "text"
      },
      "source": [
        "<a href=\"https://colab.research.google.com/github/SinkLineP/project_1/blob/master/Copy_of_python_3_lection.ipynb\" target=\"_parent\"><img src=\"https://colab.research.google.com/assets/colab-badge.svg\" alt=\"Open In Colab\"/></a>"
      ]
    },
    {
      "cell_type": "markdown",
      "metadata": {
        "id": "Avp0qGfPtivS",
        "colab_type": "text"
      },
      "source": [
        "# Python лекция 3\n",
        "\n",
        "Разбор домашнего задания\n",
        "\n",
        "## Первая задача\n",
        "\n",
        "Написать программу которая считает [факториал](https://ru.wikipedia.org/wiki/%D0%A4%D0%B0%D0%BA%D1%82%D0%BE%D1%80%D0%B8%D0%B0%D0%BB) введенного пользователем числа n. \n",
        "\n",
        "Формула вычисления:\n",
        "\n",
        "![alt text](https://wikimedia.org/api/rest_v1/media/math/render/svg/0613b26bbfc65ef7ae0142723f8251988cc70ba0)\n",
        "\n",
        "Пример:\n",
        "\n",
        "![alt text](https://wikimedia.org/api/rest_v1/media/math/render/svg/d1a8407c750e7db04da88d96ba928413b94a812c)\n"
      ]
    },
    {
      "cell_type": "markdown",
      "metadata": {
        "id": "VnKdkmNcuohV",
        "colab_type": "text"
      },
      "source": [
        "## Решение\n",
        "\n",
        "В целом все решения можно разделить на 3 категории:\n",
        "\n",
        "1. Использование цикла"
      ]
    },
    {
      "cell_type": "code",
      "metadata": {
        "id": "zPAjNXjkkM-L",
        "colab_type": "code",
        "outputId": "b99fcea7-2643-4ad6-d8cc-25b6c89f4ed7",
        "colab": {
          "base_uri": "https://localhost:8080/",
          "height": 51
        }
      },
      "source": [
        "n = int(input('Enter number:'))\n",
        "\n",
        "\n",
        "def factorial(n):\n",
        "    fact = 1\n",
        "    for i in range(1, n + 1):\n",
        "        fact = fact * i\n",
        "    return fact\n",
        "\n",
        "\n",
        "print(factorial(n))"
      ],
      "execution_count": 0,
      "outputs": [
        {
          "output_type": "stream",
          "text": [
            "Enter number:10\n",
            "3628800\n"
          ],
          "name": "stdout"
        }
      ]
    },
    {
      "cell_type": "markdown",
      "metadata": {
        "id": "pGAwCrTdtgSe",
        "colab_type": "text"
      },
      "source": [
        "2. Использование рекурсии"
      ]
    },
    {
      "cell_type": "code",
      "metadata": {
        "id": "XdMfIHHktpsX",
        "colab_type": "code",
        "outputId": "68d858c6-2a76-486f-da69-dfb5efea804e",
        "colab": {
          "base_uri": "https://localhost:8080/",
          "height": 51
        }
      },
      "source": [
        "n = int(input('Enter number:'))\n",
        "\n",
        "def factorial(n):\n",
        "    if n == 0:\n",
        "        return 1\n",
        "    return factorial(n-1) * n\n",
        " \n",
        " \n",
        "print(factorial(n))\n"
      ],
      "execution_count": 0,
      "outputs": [
        {
          "output_type": "stream",
          "text": [
            "Enter number:5\n",
            "120\n"
          ],
          "name": "stdout"
        }
      ]
    },
    {
      "cell_type": "markdown",
      "metadata": {
        "id": "78g3ebVWvesm",
        "colab_type": "text"
      },
      "source": [
        "3. Использование функции из библиотеки math"
      ]
    },
    {
      "cell_type": "code",
      "metadata": {
        "id": "8j4YLK8fvZgm",
        "colab_type": "code",
        "outputId": "57e02e6c-70c3-4d71-e28f-7bddd23b8f86",
        "colab": {
          "base_uri": "https://localhost:8080/",
          "height": 51
        }
      },
      "source": [
        "import math\n",
        "\n",
        "n = int(input('Enter number:'))\n",
        "answer = math.factorial(n)\n",
        "print(f\"The factorial of value {n} is {answer}\")"
      ],
      "execution_count": 0,
      "outputs": [
        {
          "output_type": "stream",
          "text": [
            "Enter number:10\n",
            "The factorial of value 10 is 3628800\n"
          ],
          "name": "stdout"
        }
      ]
    },
    {
      "cell_type": "markdown",
      "metadata": {
        "id": "BKF_oqiov84L",
        "colab_type": "text"
      },
      "source": [
        "\n",
        "\n",
        "---\n",
        "\n"
      ]
    },
    {
      "cell_type": "markdown",
      "metadata": {
        "id": "aAtviuL3wEaO",
        "colab_type": "text"
      },
      "source": [
        "## Вторая задача\n",
        "\n",
        "Пользователь вводит год, месяц и день нужно посчитать сколько дней прошло до текущего момента. Чтобы получить текущую год, месяц и день можно использовать модуль datetime"
      ]
    },
    {
      "cell_type": "code",
      "metadata": {
        "id": "q2eW29JPwm-z",
        "colab_type": "code",
        "outputId": "462afeef-6140-4fba-8b97-0f586b4dbdb6",
        "colab": {
          "base_uri": "https://localhost:8080/",
          "height": 68
        }
      },
      "source": [
        "import datetime\n",
        "\n",
        "today = datetime.date.today()\n",
        "print(f'Year: {today.year}')\n",
        "print(f'Month: {today.month}')\n",
        "print(f'Day: {today.day}')"
      ],
      "execution_count": 0,
      "outputs": [
        {
          "output_type": "stream",
          "text": [
            "Year: 2019\n",
            "Month: 7\n",
            "Day: 27\n"
          ],
          "name": "stdout"
        }
      ]
    },
    {
      "cell_type": "markdown",
      "metadata": {
        "id": "si5ZPQjvwG93",
        "colab_type": "text"
      },
      "source": [
        "## Решение\n",
        "\n",
        "здесь уже вариантов поменьше\n",
        "\n",
        "1. Первый вариант, попробовать посчитать это алгоритмически\n",
        "\n"
      ]
    },
    {
      "cell_type": "code",
      "metadata": {
        "id": "Y_zwUFl6x_0u",
        "colab_type": "code",
        "outputId": "39ce8f34-52fc-4ce6-e46d-c860562d2d46",
        "colab": {
          "base_uri": "https://localhost:8080/",
          "height": 34
        }
      },
      "source": [
        "import datetime\n",
        "\n",
        "\n",
        "def diff(year, month, day):\n",
        "  d = datetime.date(year=year, month=month, day=day)\n",
        "  return (datetime.date.today() - d).days\n",
        "\n",
        "def test_func(f):\n",
        "  total = 0\n",
        "  correct = 0\n",
        "  error = 0\n",
        "  \n",
        "  current = datetime.date(year=1900, month=1, day=1)\n",
        "  while current <= today:\n",
        "    total += 1\n",
        "    true_diff = diff(current.year, current.month, current.day)\n",
        "    try:\n",
        "      result = f(current.year, current.month, current.day)\n",
        "      if true_diff == result:\n",
        "        correct += 1\n",
        "    except:\n",
        "      error += 1\n",
        "    current = current + datetime.timedelta(days=1)\n",
        "    \n",
        "  return correct / total * 100\n",
        "\n",
        "\n",
        "print(test_func(diff))"
      ],
      "execution_count": 0,
      "outputs": [
        {
          "output_type": "stream",
          "text": [
            "100.0\n"
          ],
          "name": "stdout"
        }
      ]
    },
    {
      "cell_type": "markdown",
      "metadata": {
        "id": "CCpEnnYmzbMQ",
        "colab_type": "text"
      },
      "source": [
        "Всего было два таких варианта:\n"
      ]
    },
    {
      "cell_type": "code",
      "metadata": {
        "id": "G8o12hg4zDUd",
        "colab_type": "code",
        "outputId": "f0e740cd-7e38-44a7-d629-c33d1a033a51",
        "colab": {
          "base_uri": "https://localhost:8080/",
          "height": 197
        }
      },
      "source": [
        "import datetime\n",
        "\n",
        "cur = datetime.date.today()\n",
        "cur_day = cur.day\n",
        "cur_month = cur.month\n",
        "cur_year = cur.year\n",
        "\n",
        "long_month = {1, 3, 5, 7, 8, 10, 12}\n",
        "short_month = {4, 6, 9, 11}\n",
        "february = 2\n",
        "max_month = 12\n",
        "\n",
        "def days_count(year, month, day):\n",
        "\n",
        "    if year > cur_year or (year == cur_year and month > cur_month) or \\\n",
        "        (year == cur_year and month == cur_month and day > cur_day):\n",
        "        diff = \"Введите дату меньше текущей\"\n",
        "    elif (day > 31) or (month in short_month and day > 30):\n",
        "        diff = \"День выходит за рамки месяца\"\n",
        "    elif month == february and day > 28 and \\\n",
        "        (year % 4 != 0 or (year % 400 != 0 and year % 100 == 0)):\n",
        "        diff = \"День выходит за рамки месяца\"\n",
        "    elif month == february and day > 29 and \\\n",
        "        (year % 400 == 0 or (year % 4 == 0 and year % 100 != 0)):\n",
        "        diff = \"День выходит за рамки месяца\"\n",
        "    else:\n",
        "        dif_day_month = 0\n",
        "        dif_day_year = 0\n",
        "        neg_diff_day = 0\n",
        "\n",
        "        for i in range(month, cur_month):\n",
        "            if i in long_month and 0 < day <= 31:\n",
        "                day_month = 31\n",
        "            elif i in short_month and 0 < day <= 30:\n",
        "                day_month = 30\n",
        "            elif i == february:\n",
        "                if year % 400 == 0 or (year % 4 == 0 and year % 100 != 0):\n",
        "                    day_month = 29\n",
        "                else:\n",
        "                    day_month = 28\n",
        "            else:\n",
        "                raise ValueError(\"sorry, you lose\") \n",
        "            dif_day_month = dif_day_month + day_month\n",
        "\n",
        "        for i in range(year+1, cur_year+1):\n",
        "            if i % 400 == 0 or (i % 4 == 0 and i % 100 != 0):\n",
        "                day_year = 366\n",
        "            else:\n",
        "                day_year = 365\n",
        "            dif_day_year = dif_day_year + day_year\n",
        "\n",
        "        if month > cur_month:\n",
        "            for i in range(cur_month, month):\n",
        "                if i in long_month:\n",
        "                    day_month = 31\n",
        "                elif i in short_month:\n",
        "                    day_month = 30\n",
        "                elif i == february:\n",
        "                    if year % 400 == 0 or (year % 4 == 0 and year % 100 != 0):\n",
        "                        day_month = 29\n",
        "                    else:\n",
        "                        day_month = 28\n",
        "                neg_diff_day = neg_diff_day + day_month\n",
        "        dif_day_year = dif_day_year - neg_diff_day\n",
        "\n",
        "        diff = dif_day_year + dif_day_month + cur_day - day\n",
        "\n",
        "    return diff\n",
        "  \n",
        "  \n",
        "print(test_func(days_count))"
      ],
      "execution_count": 0,
      "outputs": [
        {
          "output_type": "error",
          "ename": "NameError",
          "evalue": "ignored",
          "traceback": [
            "\u001b[0;31m---------------------------------------------------------------------------\u001b[0m",
            "\u001b[0;31mNameError\u001b[0m                                 Traceback (most recent call last)",
            "\u001b[0;32m<ipython-input-2-623c3a3795cb>\u001b[0m in \u001b[0;36m<module>\u001b[0;34m()\u001b[0m\n\u001b[1;32m     66\u001b[0m \u001b[0;34m\u001b[0m\u001b[0m\n\u001b[1;32m     67\u001b[0m \u001b[0;34m\u001b[0m\u001b[0m\n\u001b[0;32m---> 68\u001b[0;31m \u001b[0mprint\u001b[0m\u001b[0;34m(\u001b[0m\u001b[0mtest_func\u001b[0m\u001b[0;34m(\u001b[0m\u001b[0mdays_count\u001b[0m\u001b[0;34m)\u001b[0m\u001b[0;34m)\u001b[0m\u001b[0;34m\u001b[0m\u001b[0;34m\u001b[0m\u001b[0m\n\u001b[0m",
            "\u001b[0;31mNameError\u001b[0m: name 'test_func' is not defined"
          ]
        }
      ]
    },
    {
      "cell_type": "markdown",
      "metadata": {
        "id": "p9RzFYG90sfk",
        "colab_type": "text"
      },
      "source": [
        "Второй вариант"
      ]
    },
    {
      "cell_type": "code",
      "metadata": {
        "id": "E0GzHp6rzv9A",
        "colab_type": "code",
        "outputId": "733690ea-5bc7-4d37-e608-f0ae4615ecb7",
        "colab": {
          "base_uri": "https://localhost:8080/",
          "height": 34
        }
      },
      "source": [
        "import datetime\n",
        "\n",
        "\n",
        "def days_count2(year, month, day):\n",
        "  days_in_months_list = [0, 31, 28, 31, 30, 31, 30, 31, 31, 30, 31, 30, 31]\n",
        "  days_in_past_months = 0\n",
        "  days_in_present_months = 0\n",
        "  timedelta_year = datetime.date.today().year - year\n",
        "\n",
        "  for el in days_in_months_list[:month]:\n",
        "      days_in_past_months += el\n",
        "  for el in days_in_months_list[:datetime.date.today().month]:\n",
        "      days_in_present_months += el\n",
        "\n",
        "  sum_of_days_in_years = timedelta_year * 365 + timedelta_year // 4 - timedelta_year // 100 + timedelta_year // 400\n",
        "  sum_of_days_till_today = sum_of_days_in_years + days_in_present_months + datetime.date.today().day - days_in_past_months - day\n",
        "\n",
        "  return sum_of_days_till_today\n",
        "\n",
        "print(test_func(days_count2))"
      ],
      "execution_count": 0,
      "outputs": [
        {
          "output_type": "stream",
          "text": [
            "79.84063015204251\n"
          ],
          "name": "stdout"
        }
      ]
    },
    {
      "cell_type": "markdown",
      "metadata": {
        "id": "5J-Zo9Yp1U1p",
        "colab_type": "text"
      },
      "source": [
        "Ну и мое решение"
      ]
    },
    {
      "cell_type": "code",
      "metadata": {
        "id": "ZX0M_lpx0_-V",
        "colab_type": "code",
        "outputId": "8649c12c-aea0-4ae3-c43a-ac31f7833595",
        "colab": {
          "base_uri": "https://localhost:8080/",
          "height": 34
        }
      },
      "source": [
        "import datetime\n",
        "\n",
        "\n",
        "def is_lofty(year):\n",
        "  if year % 400 == 0:\n",
        "    return True\n",
        "  elif year % 100 == 0:\n",
        "    return False\n",
        "  elif year % 4 == 0:\n",
        "    return True\n",
        "  else:\n",
        "    return False\n",
        "\n",
        "def get_days_in_month(year, month):\n",
        "  days = [31, 28 + int(is_lofty(year)), 31, 30, 31, 30, 31, 31, 30, 31, 30, 31]\n",
        "  return days[month - 1]\n",
        "\n",
        "def get_days_in_year(year):\n",
        "  return 365 + int(is_lofty(year))\n",
        "\n",
        "def days_count3(year, month, day):\n",
        "  today = datetime.date.today()\n",
        "  \n",
        "  cur_year = today.year\n",
        "  cur_month = today.month\n",
        "  cur_day = today.day\n",
        "  \n",
        "  total = -day\n",
        "  \n",
        "  if year < cur_year:\n",
        "    while month <= 12:\n",
        "      total += get_days_in_month(year, month)\n",
        "      month += 1\n",
        "    month = 1\n",
        "    \n",
        "  for y in range(year + 1, cur_year):\n",
        "    total += get_days_in_year(y)\n",
        "  \n",
        "  while month < cur_month:\n",
        "    total += get_days_in_month(cur_year, month)\n",
        "    month += 1\n",
        "      \n",
        "  total += cur_day\n",
        "  \n",
        "  return total\n",
        "\n",
        "print(test_func(days_count3))"
      ],
      "execution_count": 0,
      "outputs": [
        {
          "output_type": "stream",
          "text": [
            "100.0\n"
          ],
          "name": "stdout"
        }
      ]
    },
    {
      "cell_type": "markdown",
      "metadata": {
        "id": "aOPAjQU4JyNu",
        "colab_type": "text"
      },
      "source": [
        "# Функции\n",
        "\n",
        "В имени функции можно использовать буквы, подчеркивание _ и цифры от 0 до 9,\n",
        "но цифра не должна стоять на первом месте."
      ]
    },
    {
      "cell_type": "code",
      "metadata": {
        "id": "fgXYmKXk3KYg",
        "colab_type": "code",
        "outputId": "039b78f8-33c5-4123-ae48-52fb9d345a63",
        "colab": {
          "base_uri": "https://localhost:8080/",
          "height": 34
        }
      },
      "source": [
        "def foo():\n",
        "  return 42\n",
        "\n",
        "print(foo())"
      ],
      "execution_count": 0,
      "outputs": [
        {
          "output_type": "stream",
          "text": [
            "42\n"
          ],
          "name": "stdout"
        }
      ]
    },
    {
      "cell_type": "markdown",
      "metadata": {
        "id": "WyPGwpsHKJNO",
        "colab_type": "text"
      },
      "source": [
        "**return** использовать не обязательно, тогда функция вернет None"
      ]
    },
    {
      "cell_type": "code",
      "metadata": {
        "id": "Gsv0QyvNKS6e",
        "colab_type": "code",
        "outputId": "9b13a9e2-e45e-45b2-e24b-b201362275ed",
        "colab": {
          "base_uri": "https://localhost:8080/",
          "height": 34
        }
      },
      "source": [
        "def foo():\n",
        "  42\n",
        "\n",
        "print(foo())"
      ],
      "execution_count": 0,
      "outputs": [
        {
          "output_type": "stream",
          "text": [
            "None\n"
          ],
          "name": "stdout"
        }
      ]
    },
    {
      "cell_type": "markdown",
      "metadata": {
        "id": "gbtRRL06KVD3",
        "colab_type": "text"
      },
      "source": [
        "### Пример использования"
      ]
    },
    {
      "cell_type": "code",
      "metadata": {
        "id": "34gxJINnKyVI",
        "colab_type": "code",
        "outputId": "0f54ea34-f1a7-47f7-eee1-a08c0ac2616d",
        "colab": {
          "base_uri": "https://localhost:8080/",
          "height": 102
        }
      },
      "source": [
        "def min(x, y):\n",
        "  return x if x < y else y\n",
        "\n",
        "print(min(1, 2))\n",
        "print(min(x=1, y=2))\n",
        "\n",
        "# порядок не важен\n",
        "print(min(y=1, x=2))\n",
        "\n",
        "\n",
        "# аргументы по умолчанию\n",
        "def foo(x, y, default=0):\n",
        "  return x + y + default\n",
        "\n",
        "print(foo(1, 2))\n",
        "print(foo(1, 2, default=1))"
      ],
      "execution_count": 0,
      "outputs": [
        {
          "output_type": "stream",
          "text": [
            "1\n",
            "1\n",
            "1\n",
            "3\n",
            "4\n"
          ],
          "name": "stdout"
        }
      ]
    },
    {
      "cell_type": "markdown",
      "metadata": {
        "id": "pyuZQqJ_SvYm",
        "colab_type": "text"
      },
      "source": [
        "Что если мы не знаем сколько аргументов принимает функция?"
      ]
    },
    {
      "cell_type": "code",
      "metadata": {
        "id": "8C1wJzhxK8tr",
        "colab_type": "code",
        "outputId": "3c6ab6ff-1884-484a-d7f9-a04f08a6c7a6",
        "colab": {
          "base_uri": "https://localhost:8080/",
          "height": 119
        }
      },
      "source": [
        "def min(*args):\n",
        "  print(type(args))  # list\n",
        "  print(args)\n",
        "\n",
        "\n",
        "min(1)\n",
        "min(1, 2)\n",
        "min(1, 2, 3, 4)"
      ],
      "execution_count": 1,
      "outputs": [
        {
          "output_type": "stream",
          "text": [
            "<class 'tuple'>\n",
            "(1,)\n",
            "<class 'tuple'>\n",
            "(1, 2)\n",
            "<class 'tuple'>\n",
            "(1, 2, 3, 4)\n"
          ],
          "name": "stdout"
        }
      ]
    },
    {
      "cell_type": "code",
      "metadata": {
        "id": "vx0lold0poDy",
        "colab_type": "code",
        "colab": {
          "base_uri": "https://localhost:8080/",
          "height": 129
        },
        "outputId": "7deb595e-4c8e-497b-b38a-707b0b291878"
      },
      "source": [
        "def mysum(*args):\n",
        "  s = 0 \n",
        "  for i in args:\n",
        "    s = s + i\n",
        "   return s\n",
        "\n",
        "print(mysum(1, 2, 100, 10, 20))"
      ],
      "execution_count": 4,
      "outputs": [
        {
          "output_type": "error",
          "ename": "IndentationError",
          "evalue": "ignored",
          "traceback": [
            "\u001b[0;36m  File \u001b[0;32m\"<ipython-input-4-5abe00e8aa62>\"\u001b[0;36m, line \u001b[0;32m5\u001b[0m\n\u001b[0;31m    return s:\u001b[0m\n\u001b[0m             ^\u001b[0m\n\u001b[0;31mIndentationError\u001b[0m\u001b[0;31m:\u001b[0m unindent does not match any outer indentation level\n"
          ]
        }
      ]
    },
    {
      "cell_type": "markdown",
      "metadata": {
        "id": "Wpm7Au21TiaB",
        "colab_type": "text"
      },
      "source": [
        "Если мы передаем параметры по имени?"
      ]
    },
    {
      "cell_type": "code",
      "metadata": {
        "id": "idBSHvokTKBg",
        "colab_type": "code",
        "outputId": "90c2b1a8-0c4f-44ad-8328-ec9c3061a3f2",
        "colab": {
          "base_uri": "https://localhost:8080/",
          "height": 51
        }
      },
      "source": [
        "def foo(**kwargs):\n",
        "  print(type(kwargs))  # dict\n",
        "  print(kwargs)\n",
        "  \n",
        "foo(x=1, y=1, z=1)  \n"
      ],
      "execution_count": 0,
      "outputs": [
        {
          "output_type": "stream",
          "text": [
            "<class 'dict'>\n",
            "{'x': 1, 'y': 1, 'z': 1}\n"
          ],
          "name": "stdout"
        }
      ]
    },
    {
      "cell_type": "markdown",
      "metadata": {
        "id": "YeI07f1CUFUR",
        "colab_type": "text"
      },
      "source": [
        "Функция type возвращает тип переменной. Иногда очень полезно!!!"
      ]
    },
    {
      "cell_type": "code",
      "metadata": {
        "id": "RIWE3DeTT0xK",
        "colab_type": "code",
        "outputId": "67cdf92e-723f-4bdf-e2e5-5c47330ee5ac",
        "colab": {
          "base_uri": "https://localhost:8080/",
          "height": 136
        }
      },
      "source": [
        "print(type(1))\n",
        "print(type(True))\n",
        "print(type(1.0))\n",
        "print(type([]))\n",
        "print(type({}))\n",
        "print(type(set()))\n",
        "print(type(tuple()))"
      ],
      "execution_count": 5,
      "outputs": [
        {
          "output_type": "stream",
          "text": [
            "<class 'int'>\n",
            "<class 'bool'>\n",
            "<class 'float'>\n",
            "<class 'list'>\n",
            "<class 'dict'>\n",
            "<class 'set'>\n",
            "<class 'tuple'>\n"
          ],
          "name": "stdout"
        }
      ]
    },
    {
      "cell_type": "markdown",
      "metadata": {
        "id": "-mvV_mFHUa7K",
        "colab_type": "text"
      },
      "source": [
        "Фукнция которая принимает бесконечное кол-во параметров по порядку и именованых"
      ]
    },
    {
      "cell_type": "code",
      "metadata": {
        "id": "ZDPnRuVAUScH",
        "colab_type": "code",
        "outputId": "27e92cfa-48d8-46ce-ad11-45edb3b9f5c3",
        "colab": {
          "base_uri": "https://localhost:8080/",
          "height": 51
        }
      },
      "source": [
        "def foo(*args, **kwargs):\n",
        "  print(type(args), type(kwargs))\n",
        "  print(args, kwargs)\n",
        "  \n",
        "  \n",
        "foo(1, 2, 3, x=1, z=2)\n"
      ],
      "execution_count": 0,
      "outputs": [
        {
          "output_type": "stream",
          "text": [
            "<class 'tuple'> <class 'dict'>\n",
            "(1, 2, 3) {'x': 1, 'z': 2}\n"
          ],
          "name": "stdout"
        }
      ]
    },
    {
      "cell_type": "code",
      "metadata": {
        "id": "aPXDLftWUwDC",
        "colab_type": "code",
        "outputId": "228dd954-fd6a-484f-98b1-82c2678265ef",
        "colab": {
          "base_uri": "https://localhost:8080/",
          "height": 130
        }
      },
      "source": [
        "foo(1, 2, 3, x=1, 4)"
      ],
      "execution_count": 0,
      "outputs": [
        {
          "output_type": "error",
          "ename": "SyntaxError",
          "evalue": "ignored",
          "traceback": [
            "\u001b[0;36m  File \u001b[0;32m\"<ipython-input-59-680618c3540c>\"\u001b[0;36m, line \u001b[0;32m1\u001b[0m\n\u001b[0;31m    foo(1, 2, 3, x=1, 4)\u001b[0m\n\u001b[0m                     ^\u001b[0m\n\u001b[0;31mSyntaxError\u001b[0m\u001b[0;31m:\u001b[0m positional argument follows keyword argument\n"
          ]
        }
      ]
    },
    {
      "cell_type": "markdown",
      "metadata": {
        "id": "aaCyinfnVHEj",
        "colab_type": "text"
      },
      "source": [
        "В какой момент происходит инициализация ключевых аргументов со значениями по умолчанию?"
      ]
    },
    {
      "cell_type": "code",
      "metadata": {
        "id": "4OrI5YSbUy7b",
        "colab_type": "code",
        "outputId": "8705c85f-63dd-4d8d-affe-4c0c5c0c59d5",
        "colab": {
          "base_uri": "https://localhost:8080/",
          "height": 51
        }
      },
      "source": [
        "def foo(l=[]):\n",
        "  l.append(1)\n",
        "  print(l)\n",
        "  \n",
        "foo()\n",
        "foo()"
      ],
      "execution_count": 0,
      "outputs": [
        {
          "output_type": "stream",
          "text": [
            "[1]\n",
            "[1, 1]\n"
          ],
          "name": "stdout"
        }
      ]
    },
    {
      "cell_type": "markdown",
      "metadata": {
        "id": "6UmD9tGVVfOK",
        "colab_type": "text"
      },
      "source": [
        "Ну а теперь правильная инициализация изменяемых типов данных(set, list, dict)"
      ]
    },
    {
      "cell_type": "code",
      "metadata": {
        "id": "rWYaS4UtVU5w",
        "colab_type": "code",
        "outputId": "a5baea6c-0d58-4e4c-837b-7f710954c3a3",
        "colab": {
          "base_uri": "https://localhost:8080/",
          "height": 51
        }
      },
      "source": [
        "def foo(l=None):\n",
        "  if not l:\n",
        "    l = []\n",
        "  l.append(1)\n",
        "  print(l)\n",
        "  \n",
        "foo()\n",
        "foo()"
      ],
      "execution_count": 0,
      "outputs": [
        {
          "output_type": "stream",
          "text": [
            "[1]\n",
            "[1]\n"
          ],
          "name": "stdout"
        }
      ]
    },
    {
      "cell_type": "markdown",
      "metadata": {
        "id": "a0nkw22iV8Kb",
        "colab_type": "text"
      },
      "source": [
        "# Распаковка"
      ]
    },
    {
      "cell_type": "code",
      "metadata": {
        "id": "GgE3li0OVdzr",
        "colab_type": "code",
        "outputId": "a28dbcee-7b71-489b-808e-95966a8b3331",
        "colab": {
          "base_uri": "https://localhost:8080/",
          "height": 51
        }
      },
      "source": [
        "coor = [1, 2]\n",
        "\n",
        "x, y = coor\n",
        "\n",
        "print(x)\n",
        "print(y)"
      ],
      "execution_count": 0,
      "outputs": [
        {
          "output_type": "stream",
          "text": [
            "1\n",
            "2\n"
          ],
          "name": "stdout"
        }
      ]
    },
    {
      "cell_type": "markdown",
      "metadata": {
        "id": "4qCu4gmXWz6D",
        "colab_type": "text"
      },
      "source": [
        "если вам не нужно распаковать все элементы можно вопользоваться синктаксисом\n"
      ]
    },
    {
      "cell_type": "code",
      "metadata": {
        "id": "N2DRo6n3W1yH",
        "colab_type": "code",
        "outputId": "43004b4c-6caf-486a-bbe6-f67b2457d5bb",
        "colab": {
          "base_uri": "https://localhost:8080/",
          "height": 68
        }
      },
      "source": [
        "arr = [1, 2, 3, 4]\n",
        "first, second, *rest = arr\n",
        "\n",
        "print(first)\n",
        "print(second)\n",
        "print(rest)"
      ],
      "execution_count": 0,
      "outputs": [
        {
          "output_type": "stream",
          "text": [
            "1\n",
            "2\n",
            "[3, 4]\n"
          ],
          "name": "stdout"
        }
      ]
    },
    {
      "cell_type": "markdown",
      "metadata": {
        "id": "W9Sb7RhMWLgt",
        "colab_type": "text"
      },
      "source": [
        "Обмен значений двух переменных, в других языках через временную переменную"
      ]
    },
    {
      "cell_type": "code",
      "metadata": {
        "id": "izAqUpHkWSS0",
        "colab_type": "code",
        "outputId": "3c5edee2-3497-488a-8095-3523da91ca6d",
        "colab": {
          "base_uri": "https://localhost:8080/",
          "height": 51
        }
      },
      "source": [
        "x = 1\n",
        "y = 2\n",
        "print(x, y)\n",
        "\n",
        "t = x\n",
        "x = y\n",
        "y = t\n",
        "\n",
        "print(x, y)"
      ],
      "execution_count": 0,
      "outputs": [
        {
          "output_type": "stream",
          "text": [
            "1 2\n",
            "2 1\n"
          ],
          "name": "stdout"
        }
      ]
    },
    {
      "cell_type": "markdown",
      "metadata": {
        "id": "unETSfKPWbpj",
        "colab_type": "text"
      },
      "source": [
        "В питоне"
      ]
    },
    {
      "cell_type": "code",
      "metadata": {
        "id": "8tPifDnxWaIE",
        "colab_type": "code",
        "outputId": "6d8e8a12-c74f-4259-8fe2-1c043ec4a9a3",
        "colab": {
          "base_uri": "https://localhost:8080/",
          "height": 51
        }
      },
      "source": [
        "x = 1\n",
        "y = 2\n",
        "print(x, y)\n",
        "\n",
        "x, y = y, x\n",
        "print(x, y)"
      ],
      "execution_count": 0,
      "outputs": [
        {
          "output_type": "stream",
          "text": [
            "1 2\n",
            "2 1\n"
          ],
          "name": "stdout"
        }
      ]
    },
    {
      "cell_type": "markdown",
      "metadata": {
        "id": "Og8qYM-SXTU5",
        "colab_type": "text"
      },
      "source": [
        "# PEP 8"
      ]
    },
    {
      "cell_type": "markdown",
      "metadata": {
        "id": "SNq7XajoXYNh",
        "colab_type": "text"
      },
      "source": [
        "PEP 8 содержит стилистические рекомендации по оформлению кода на Python.\n",
        "\n",
        "Базовые рекомендации\n",
        "* 4 пробела для отступов;\n",
        "* длина строки не более 79 символов для кода и не более 72 символов для документации и комментариев;\n",
        "* lower_case_with_underscores для переменных и имен функций, UPPER_CASE_WITH_UNDERSCORES для констант."
      ]
    },
    {
      "cell_type": "markdown",
      "metadata": {
        "id": "toOOvUwFXvpf",
        "colab_type": "text"
      },
      "source": [
        "Унарные операции без пробелов, бинарные с одним пробелом с обеих сторон"
      ]
    },
    {
      "cell_type": "code",
      "metadata": {
        "id": "yrLX-C5gWgGK",
        "colab_type": "code",
        "colab": {}
      },
      "source": [
        "item_value = 1\n",
        "item_count = 2\n",
        "offset = 3\n",
        "exp = -1.05\n",
        "value = (item_value / item_count) * offset / exp"
      ],
      "execution_count": 0,
      "outputs": []
    },
    {
      "cell_type": "markdown",
      "metadata": {
        "id": "dIYFXvvRX8Y_",
        "colab_type": "text"
      },
      "source": [
        "Для списков или кортежей с большим количеством элементов используйте перенос сразу после запятой"
      ]
    },
    {
      "cell_type": "code",
      "metadata": {
        "id": "RplEPtwxXyl3",
        "colab_type": "code",
        "colab": {}
      },
      "source": [
        "items = [\n",
        "  'this is the first', 'set of items',\n",
        "  'with more items', 'to come in this line',\n",
        "  'like this'\n",
        "]"
      ],
      "execution_count": 0,
      "outputs": []
    },
    {
      "cell_type": "markdown",
      "metadata": {
        "id": "MDqyLIB9YGc6",
        "colab_type": "text"
      },
      "source": [
        "Не пишите тело оператора на одной строке с самим оператором"
      ]
    },
    {
      "cell_type": "code",
      "metadata": {
        "id": "BncHMpL3YFwr",
        "colab_type": "code",
        "colab": {}
      },
      "source": [
        "if bar: x += 1 # Плохо\n",
        "while bar: do_something() # Плохо\n",
        "if bar: # Лучше\n",
        "  x += 1\n",
        "while bar: # Лучше\n",
        "  do_something()"
      ],
      "execution_count": 0,
      "outputs": []
    },
    {
      "cell_type": "markdown",
      "metadata": {
        "id": "Y_Qbo8jUYQM-",
        "colab_type": "text"
      },
      "source": [
        "Не используйте Йода-сравнения в if и while"
      ]
    },
    {
      "cell_type": "code",
      "metadata": {
        "id": "NXgdkPq7YVwh",
        "colab_type": "code",
        "colab": {}
      },
      "source": [
        "if 'md5' == method: # Плохо\n",
        "  pass\n",
        "if method == 'md5' # Лучше\n",
        "  pass"
      ],
      "execution_count": 0,
      "outputs": []
    },
    {
      "cell_type": "markdown",
      "metadata": {
        "id": "N1zFCFPlYkmI",
        "colab_type": "text"
      },
      "source": [
        "Для сравнения на равенство\n",
        "• объектов используйте операторы == и !=,\n",
        "• синглтонов используйте is и is not,\n",
        "• булевых значений используйте сам объект или оператор\n",
        "not, например\n"
      ]
    },
    {
      "cell_type": "code",
      "metadata": {
        "id": "yt1SNwwKYopf",
        "colab_type": "code",
        "colab": {}
      },
      "source": [
        "if foo:\n",
        "  # ...\n",
        "while not bar:\n",
        "  # ...\n"
      ],
      "execution_count": 0,
      "outputs": []
    },
    {
      "cell_type": "markdown",
      "metadata": {
        "id": "pcGn40WiYsoX",
        "colab_type": "text"
      },
      "source": [
        "Проверяйте отсутствие элемента в словаре с помощью оператора not in\n"
      ]
    },
    {
      "cell_type": "code",
      "metadata": {
        "id": "m6hLrip0YuvP",
        "colab_type": "code",
        "colab": {}
      },
      "source": [
        "if not key in d: # Плохо\n",
        "if key not in d: # Лучше"
      ],
      "execution_count": 0,
      "outputs": []
    },
    {
      "cell_type": "markdown",
      "metadata": {
        "id": "o48mf_ZhY07Q",
        "colab_type": "text"
      },
      "source": [
        "Не используйте пробелы до или после скобок при объявлении и вызове функции"
      ]
    },
    {
      "cell_type": "code",
      "metadata": {
        "id": "YlL4NoCPY4wC",
        "colab_type": "code",
        "colab": {}
      },
      "source": [
        "def foo (x, y): # Плохо\n",
        "  pass\n",
        "foo( 42, 24 ) # Плохо"
      ],
      "execution_count": 0,
      "outputs": []
    },
    {
      "cell_type": "markdown",
      "metadata": {
        "id": "6iXLG-22Y9Yb",
        "colab_type": "text"
      },
      "source": [
        "Документируйте функции следующим образом"
      ]
    },
    {
      "cell_type": "code",
      "metadata": {
        "id": "crBeh7M_Y5y0",
        "colab_type": "code",
        "colab": {}
      },
      "source": [
        "def something_useful(arg, **options):\n",
        "  \"\"\"One-line summary.\n",
        "  Optional longer description of the function\n",
        "  behaviour.\n",
        "  \"\"\""
      ],
      "execution_count": 0,
      "outputs": []
    },
    {
      "cell_type": "markdown",
      "metadata": {
        "id": "dParrFvfZEY4",
        "colab_type": "text"
      },
      "source": [
        "Разделяйте определения функций двумя пустыми строками."
      ]
    },
    {
      "cell_type": "markdown",
      "metadata": {
        "id": "Mp88QXqaZMFP",
        "colab_type": "text"
      },
      "source": [
        "В репозитории пакетов Python доступен одноимённый инструмент, позволяющий проверить файл на соответствие PEP-8.\n",
        "\n",
        "> pip install pep8\n",
        "\n",
        "> pep8 ./file.py\n",
        "\n",
        "autopep8 показывает, как можно исправить код в указанном файле, чтобы он удовлетворял требованиям PEP-8.\n",
        "> pip install autopep8\n",
        "\n",
        "> autopep8 -v ./file.py"
      ]
    },
    {
      "cell_type": "markdown",
      "metadata": {
        "id": "zNZRq4vDD7S0",
        "colab_type": "text"
      },
      "source": [
        "# Встроенные функции"
      ]
    },
    {
      "cell_type": "markdown",
      "metadata": {
        "id": "hKtaerHgD99T",
        "colab_type": "text"
      },
      "source": [
        "len - считает кол-во элементов в list, set, dict, str (итерируемый объект)"
      ]
    },
    {
      "cell_type": "code",
      "metadata": {
        "id": "s4vtiK-IED7Z",
        "colab_type": "code",
        "outputId": "7297af0e-8c32-472f-e76b-7cd578c7e8ab",
        "colab": {
          "base_uri": "https://localhost:8080/",
          "height": 85
        }
      },
      "source": [
        "a = [1, 2, 3]\n",
        "print(len(a))\n",
        "\n",
        "a = \"1234\"\n",
        "print(len(a))\n",
        "\n",
        "a = {1, 2}\n",
        "print(len(a))\n",
        "\n",
        "a = {1: 1, 2: 2}\n",
        "print(len(a))"
      ],
      "execution_count": 0,
      "outputs": [
        {
          "output_type": "stream",
          "text": [
            "3\n",
            "4\n",
            "2\n",
            "2\n"
          ],
          "name": "stdout"
        }
      ]
    },
    {
      "cell_type": "markdown",
      "metadata": {
        "id": "iDVbLvDOEZ-3",
        "colab_type": "text"
      },
      "source": [
        "min, max - получение минимального элемента в list, set, dict, str (итерируемый объект)"
      ]
    },
    {
      "cell_type": "code",
      "metadata": {
        "id": "mlDCYrg6EjUk",
        "colab_type": "code",
        "outputId": "4a668668-e39e-44f4-ad64-b8e0f57a98a8",
        "colab": {
          "base_uri": "https://localhost:8080/",
          "height": 85
        }
      },
      "source": [
        "a = [2, 3, 4]\n",
        "print(min(a), max(a))\n",
        "\n",
        "a = \"a234\"\n",
        "print(min(a), max(a))\n",
        "\n",
        "a = {1, 2}\n",
        "print(min(a), max(a))\n",
        "\n",
        "a = {1: 1, 2: 2}\n",
        "print(min(a), max(a))\n"
      ],
      "execution_count": 0,
      "outputs": [
        {
          "output_type": "stream",
          "text": [
            "2 4\n",
            "2 a\n",
            "1 2\n",
            "1 2\n"
          ],
          "name": "stdout"
        }
      ]
    },
    {
      "cell_type": "markdown",
      "metadata": {
        "id": "LIc3XCluEvpM",
        "colab_type": "text"
      },
      "source": [
        "reversed - переворачиает массив или строку"
      ]
    },
    {
      "cell_type": "code",
      "metadata": {
        "id": "QvORAD_0Zyan",
        "colab_type": "code",
        "outputId": "176dc364-5814-405c-a259-e500082eca85",
        "colab": {
          "base_uri": "https://localhost:8080/",
          "height": 51
        }
      },
      "source": [
        "a = [2, 3, 4]\n",
        "print(list(reversed(a)))\n",
        "\n",
        "a = \"a234\"\n",
        "print(\"\".join(reversed(a)))\n"
      ],
      "execution_count": 0,
      "outputs": [
        {
          "output_type": "stream",
          "text": [
            "[4, 3, 2]\n",
            "432a\n"
          ],
          "name": "stdout"
        }
      ]
    },
    {
      "cell_type": "markdown",
      "metadata": {
        "id": "Bp_VCXAtTX8m",
        "colab_type": "text"
      },
      "source": [
        "sort - сортировка массива"
      ]
    },
    {
      "cell_type": "code",
      "metadata": {
        "id": "bzADDfDETDt9",
        "colab_type": "code",
        "outputId": "7e57754e-f278-4696-e827-14429dd6d9bf",
        "colab": {
          "base_uri": "https://localhost:8080/",
          "height": 51
        }
      },
      "source": [
        "a = [1, 0, -2, 3, 100, -100]\n",
        "a.sort()\n",
        "print(a)\n",
        "\n",
        "a = [1, 0, -2, 3, 100, -100]\n",
        "print(sorted(a))"
      ],
      "execution_count": 0,
      "outputs": [
        {
          "output_type": "stream",
          "text": [
            "[-100, -2, 0, 1, 3, 100]\n",
            "[-100, -2, 0, 1, 3, 100]\n"
          ],
          "name": "stdout"
        }
      ]
    },
    {
      "cell_type": "markdown",
      "metadata": {
        "id": "lA1PPlQLVBIj",
        "colab_type": "text"
      },
      "source": [
        "Фильтрация массива:"
      ]
    },
    {
      "cell_type": "code",
      "metadata": {
        "id": "95rw3NlkVGo3",
        "colab_type": "code",
        "outputId": "c816acb5-00ae-4b7f-bcaf-2cbcdfbf8208",
        "colab": {
          "base_uri": "https://localhost:8080/",
          "height": 51
        }
      },
      "source": [
        "a = [1, 0, 0, 1, 2, 3, 0]\n",
        "\n",
        "b = filter(lambda i: i > 0, a)  # lambda i: i > 0 условия для включения в новый массив\n",
        "print(list(b))\n",
        "\n",
        "b = filter(lambda i: i == 0, a)\n",
        "print(list(b))"
      ],
      "execution_count": 0,
      "outputs": [
        {
          "output_type": "stream",
          "text": [
            "[1, 1, 2, 3]\n",
            "[0, 0, 0]\n"
          ],
          "name": "stdout"
        }
      ]
    },
    {
      "cell_type": "markdown",
      "metadata": {
        "id": "2mLwepULUXIP",
        "colab_type": "text"
      },
      "source": [
        "# Примеры кода"
      ]
    },
    {
      "cell_type": "markdown",
      "metadata": {
        "id": "ZFfnRWlnUc31",
        "colab_type": "text"
      },
      "source": [
        "переворачивания массива(два способа)"
      ]
    },
    {
      "cell_type": "code",
      "metadata": {
        "id": "fj2XN_QnUcCM",
        "colab_type": "code",
        "outputId": "e9850871-6c79-4216-eb02-8caa0e5dab4c",
        "colab": {
          "base_uri": "https://localhost:8080/",
          "height": 51
        }
      },
      "source": [
        "a = [1, 2, 3]\n",
        "print(list(reversed(a)))\n",
        "\n",
        "print(a[::-1])"
      ],
      "execution_count": 0,
      "outputs": [
        {
          "output_type": "stream",
          "text": [
            "[3, 2, 1]\n",
            "[3, 2, 1]\n"
          ],
          "name": "stdout"
        }
      ]
    },
    {
      "cell_type": "markdown",
      "metadata": {
        "id": "mcb0zQGwUtHz",
        "colab_type": "text"
      },
      "source": [
        "Создание строки из массива букв"
      ]
    },
    {
      "cell_type": "code",
      "metadata": {
        "id": "I2RpX9adUyq8",
        "colab_type": "code",
        "outputId": "2f2f301c-3d12-4c34-c045-1940ab7e1a93",
        "colab": {
          "base_uri": "https://localhost:8080/",
          "height": 51
        }
      },
      "source": [
        "a = ['H', 'e', 'l', 'l', 'o', ' ', 'w', 'o', 'r', 'l', 'd']\n",
        "\n",
        "print(a)\n",
        "print(\"\".join(a))"
      ],
      "execution_count": 0,
      "outputs": [
        {
          "output_type": "stream",
          "text": [
            "['H', 'e', 'l', 'l', 'o', ' ', 'w', 'o', 'r', 'l', 'd']\n",
            "Hello world\n"
          ],
          "name": "stdout"
        }
      ]
    },
    {
      "cell_type": "markdown",
      "metadata": {
        "id": "-tPzQt18To44",
        "colab_type": "text"
      },
      "source": [
        "# Домашнее задание\n"
      ]
    },
    {
      "cell_type": "markdown",
      "metadata": {
        "id": "6X-N1OyKTrtE",
        "colab_type": "text"
      },
      "source": [
        "1. Пользователь вводит строку, проверить является ли она пали[link text](https://ru.wikipedia.org/wiki/%D0%9F%D0%B0%D0%BB%D0%B8%D0%BD%D0%B4%D1%80%D0%BE%D0%BC)ндромом\n",
        "\n",
        "Палиндром - число, буквосочетание, слово или текст, одинаково читающееся в обоих направлениях. Например, число 101; слова «топот» в русском языке и фин. saippuakivikauppias (продавец мыла; торговец щёлоком) — самое длинное слово-палиндром в мире; текст «а роза упала на лапу Азора» и пр.\n",
        "\n",
        "### Примеры палиндромов:\n",
        "\n",
        "А роза упала на лапу Азора\n",
        "\n",
        "Аргентина манит негра\n",
        "\n",
        "Я иду с мечем судия\n",
        "\n",
        "Я — арка края\n",
        "\n",
        "О, лета тело"
      ]
    },
    {
      "cell_type": "code",
      "metadata": {
        "id": "nz4WuUqoThJ9",
        "colab_type": "code",
        "colab": {}
      },
      "source": [
        ""
      ],
      "execution_count": 0,
      "outputs": []
    }
  ]
}