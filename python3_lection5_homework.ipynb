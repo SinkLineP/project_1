{
  "nbformat": 4,
  "nbformat_minor": 0,
  "metadata": {
    "colab": {
      "name": "python3 lection5 homework.ipynb",
      "version": "0.3.2",
      "provenance": [],
      "collapsed_sections": [],
      "include_colab_link": true
    },
    "kernelspec": {
      "name": "python3",
      "display_name": "Python 3"
    }
  },
  "cells": [
    {
      "cell_type": "markdown",
      "metadata": {
        "id": "view-in-github",
        "colab_type": "text"
      },
      "source": [
        "<a href=\"https://colab.research.google.com/github/SinkLineP/project_1/blob/master/python3_lection5_homework.ipynb\" target=\"_parent\"><img src=\"https://colab.research.google.com/assets/colab-badge.svg\" alt=\"Open In Colab\"/></a>"
      ]
    },
    {
      "cell_type": "markdown",
      "metadata": {
        "id": "Sycd2e8Pnx8R",
        "colab_type": "text"
      },
      "source": [
        "# Домашнее задание\n",
        "\n",
        "Создать класс которы получает строку в конструкторе. У класс должен быть метод который выводит кол-во каждого символа в строке. Предыдушее задание, но на классах!"
      ]
    },
    {
      "cell_type": "code",
      "metadata": {
        "id": "ZkTz-E_V2lAZ",
        "colab_type": "code",
        "outputId": "3b8ff43a-586f-4f85-92af-31bce840f2f9",
        "colab": {
          "base_uri": "https://localhost:8080/",
          "height": 136
        }
      },
      "source": [
        "from collections import Counter\n",
        "\n",
        "\n",
        "class SymCounter:\n",
        "    text = 'Hello world'\n",
        "\n",
        "    def __init__(self, text=text):\n",
        "        self._text = text\n",
        "\n",
        "    def count_alpha(self):\n",
        "        str_in_dict = Counter(self._text)\n",
        "        for k, v in str_in_dict.items():\n",
        "            if k.isalpha():\n",
        "                print(f\"{k}-{v}\")\n",
        "\n",
        "\n",
        "sc = SymCounter()\n",
        "sc.count_alpha()"
      ],
      "execution_count": 0,
      "outputs": [
        {
          "output_type": "stream",
          "text": [
            "H-1\n",
            "e-1\n",
            "l-3\n",
            "o-2\n",
            "w-1\n",
            "r-1\n",
            "d-1\n"
          ],
          "name": "stdout"
        }
      ]
    },
    {
      "cell_type": "code",
      "metadata": {
        "id": "I9Lg1VdJ2vK2",
        "colab_type": "code",
        "outputId": "12e4a062-2bfe-4434-d9f3-2d78e6501758",
        "colab": {
          "base_uri": "https://localhost:8080/",
          "height": 136
        }
      },
      "source": [
        "from collections import Counter\n",
        "\n",
        "class Amount:\n",
        "    def __init__(self, amount):\n",
        "        self.amount = amount\n",
        "        self.str_in_dict = Counter(amount.replace(' ', ''))\n",
        "\n",
        "    def __str__(self):\n",
        "        parts = []\n",
        "        for k, v in self.str_in_dict.items():\n",
        "           parts.append(f\"{k} - {v}\")\n",
        "        return \"\\n\".join(parts)\n",
        "\n",
        "print(Amount(\"hello world\"))"
      ],
      "execution_count": 0,
      "outputs": [
        {
          "output_type": "stream",
          "text": [
            "h - 1\n",
            "e - 1\n",
            "l - 3\n",
            "o - 2\n",
            "w - 1\n",
            "r - 1\n",
            "d - 1\n"
          ],
          "name": "stdout"
        }
      ]
    },
    {
      "cell_type": "code",
      "metadata": {
        "id": "cApmRNzZ2sOp",
        "colab_type": "code",
        "outputId": "a52113dd-fa03-41c1-c4a3-d6844e09cb02",
        "colab": {
          "base_uri": "https://localhost:8080/",
          "height": 153
        }
      },
      "source": [
        "from collections import Counter\n",
        "\n",
        "class Text:\n",
        "  def write(self,word):\n",
        "    clear = word.replace(' ','')\n",
        "    hash = dict(Counter(clear))\n",
        "    for k,v in hash.items():\n",
        "      print(f\"{k}-{v}\")\n",
        "\n",
        "a = Text()\n",
        "a.write(input())"
      ],
      "execution_count": 0,
      "outputs": [
        {
          "output_type": "stream",
          "text": [
            "hello world\n",
            "h-1\n",
            "e-1\n",
            "l-3\n",
            "o-2\n",
            "w-1\n",
            "r-1\n",
            "d-1\n"
          ],
          "name": "stdout"
        }
      ]
    }
  ]
}