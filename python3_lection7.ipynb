{
  "nbformat": 4,
  "nbformat_minor": 0,
  "metadata": {
    "colab": {
      "name": "python3 lection7.ipynb",
      "version": "0.3.2",
      "provenance": [],
      "collapsed_sections": [],
      "include_colab_link": true
    },
    "kernelspec": {
      "name": "python3",
      "display_name": "Python 3"
    }
  },
  "cells": [
    {
      "cell_type": "markdown",
      "metadata": {
        "id": "view-in-github",
        "colab_type": "text"
      },
      "source": [
        "<a href=\"https://colab.research.google.com/github/SinkLineP/project_1/blob/master/python3_lection7.ipynb\" target=\"_parent\"><img src=\"https://colab.research.google.com/assets/colab-badge.svg\" alt=\"Open In Colab\"/></a>"
      ]
    },
    {
      "cell_type": "markdown",
      "metadata": {
        "id": "xlQGMGXl-xWQ",
        "colab_type": "text"
      },
      "source": [
        "# Пакеты(библиотеки)\n",
        "\n",
        "- Пакетом можно назвать почти любой код в питоне\n",
        "- Обычно это папка в которой есть файл \\_\\_init\\_\\_.py, а также содержаться другие файлы\n",
        "- Пакеты можно импортировать\n",
        "\n",
        "Приметр создания и использования пакета:\n",
        "\n",
        "https://repl.it/repls/PointlessMobileCommand"
      ]
    },
    {
      "cell_type": "markdown",
      "metadata": {
        "id": "vQ-CJ_W0A6ES",
        "colab_type": "text"
      },
      "source": [
        "## Зачем они нужны\n",
        "\n",
        "- DRY (Do not repeat yourself - не повторяйтесь). Этот принцип учит нас повторно использовать наш код, и не писать каждый раз все с нуля. Если код один раз был написан, оттестирован и он устраивает, то зачем писать его еще раз?\n",
        "\n",
        "![alt text](https://ardalis.com/wp-content/files/media/image/WindowsLiveWriter/DRYDontRepeatYourselfMotivator_BA85/dontrepeatyourself_motivator_2.jpg)\n",
        "\n",
        "\n",
        "- Организация вашего кода в логически связанные куски. Потом проще их поддерживать, искать ошибки, модернизировать.\n",
        "\n",
        "\n",
        "- Сильно уменьшает время разработки, новых программ. \n",
        "\n",
        "- Проще тестировать: проще тестировать пакет, который выполняет одну функцию чем 10.\n",
        "\n",
        "- Если вы напишите хороший пакет, вы можете им поделиться с коммьюнити, и получить хорошее место в хорошей компании."
      ]
    },
    {
      "cell_type": "markdown",
      "metadata": {
        "id": "VmnqWJYhCZUV",
        "colab_type": "text"
      },
      "source": [
        "## Но я не умею писать пакеты!!! \n",
        "\n",
        "![alt text](https://monobank.org.ua/images/2018/03/14/3.png)\n",
        "\n",
        "- Рано или поздно научитесь!\n",
        "- Есть уже готовые пакеты для питона и их больше 200 000(двести тысяч), их можно найти по ссылке https://pypi.org/\n",
        "- В большинстве случаев это и не надо, либо они на столько примитивные, что справится любой\n",
        "- Если же вы решили воспользоваться готовым пакетом, то уважайте код другого человека и если пакет вам понравился поставьте ему звездочку на гитхабе, так разработчик узнает, что его труды не напрасны. Вам не сложно ему приятно.\n"
      ]
    },
    {
      "cell_type": "markdown",
      "metadata": {
        "id": "rFiH9Y2qDfqN",
        "colab_type": "text"
      },
      "source": [
        "## Установка пакетов из pypi.org\n",
        "\n",
        "для того чтобы установить пакет нужно [поставить программу pip](https://pip.pypa.io/en/stable/installing/). \n",
        "\n",
        "чтобы проверить установлена ли она у вас наберите в консоле:\n",
        "\n",
        "> pip3 --version\n",
        "\n",
        "pip 19.0.3 from /usr/local/lib/python3.7/site-packages/pip (python 3.7)\n",
        "\n",
        "\n"
      ]
    },
    {
      "cell_type": "markdown",
      "metadata": {
        "id": "TOig3s-jEQP8",
        "colab_type": "text"
      },
      "source": [
        "Чтобы установить пакет нужно просто написать\n",
        "\n",
        "Самой последней версии:\n",
        "> pip3 install [имя пакета] \n",
        "\n",
        "Конкретной версии:\n",
        "> pip3 install [имя пакета]==[версия]\n",
        "\n"
      ]
    },
    {
      "cell_type": "markdown",
      "metadata": {
        "id": "FJ6qABcxEi0x",
        "colab_type": "text"
      },
      "source": [
        "Например чтобы поставить пакет Django надо в терминале ввести\n",
        "\n",
        "> pip3 install Django\n",
        "\n",
        "Django конкретной версии\n",
        "\n",
        "> pip3 install Django==2.2.1\n",
        "\n"
      ]
    },
    {
      "cell_type": "markdown",
      "metadata": {
        "id": "R9cSj5sCNIXZ",
        "colab_type": "text"
      },
      "source": [
        "Если вы хотите узнать, какие пакеты установлены у вас в системе то можно ввести\n",
        "\n",
        "> pip3 list"
      ]
    },
    {
      "cell_type": "markdown",
      "metadata": {
        "id": "YOU6Bi_xGuB2",
        "colab_type": "text"
      },
      "source": [
        "## Простая демонстрация модуля который конвертирует одну валюту в другую\n",
        "\n",
        "для начала установим его\n",
        "\n",
        "> pip3 install currencyconverter\n",
        "\n",
        "\n",
        "Потом создадим файл currency.py и напишем там:\n",
        "\n"
      ]
    },
    {
      "cell_type": "code",
      "metadata": {
        "id": "MMXpfDLpHP0F",
        "colab_type": "code",
        "colab": {}
      },
      "source": [
        "from currency_converter import CurrencyConverter\n",
        "c = CurrencyConverter()\n",
        "c.convert(100, 'EUR', 'USD')\n"
      ],
      "execution_count": 0,
      "outputs": []
    },
    {
      "cell_type": "markdown",
      "metadata": {
        "id": "TsHr5H9gHUkm",
        "colab_type": "text"
      },
      "source": [
        "Теперь надо его выполнить коммандой:\n",
        "\n",
        "> python3 currency.py"
      ]
    },
    {
      "cell_type": "markdown",
      "metadata": {
        "id": "we2PzchZQHjS",
        "colab_type": "text"
      },
      "source": [
        "Откуда я узнал про этот модуль?\n",
        "\n",
        "Нашел его на pypi.org https://pypi.org/project/CurrencyConverter/"
      ]
    },
    {
      "cell_type": "markdown",
      "metadata": {
        "id": "SI7KEIKjHpnX",
        "colab_type": "text"
      },
      "source": [
        "# Выводы\n",
        "\n",
        "- Обычно под любую вашу задачу можно найти модуль, который сильно упростит вам жизнь\n",
        "- пользоваться модулями не стыдно! Их писали, что облегчить жизнь себе и пользователям вашей программы.\n",
        "- Иногда хороший модуль сложно найти, тогда надо ориентироваться на лайки на github. Обычно больше 100 лайков, модуль можно использовать. Если меньше то надо смотреть более внимательно на него. В нем могут быть ошибки.\n",
        "- Документация обычно описывает, как работать с модулем и основные действия которые можно делать с ним. (бывает что ее нет, но тогда это совсем печально)\n"
      ]
    },
    {
      "cell_type": "markdown",
      "metadata": {
        "id": "yOVnVE_wImb_",
        "colab_type": "text"
      },
      "source": [
        "# Файл зависимостей\n",
        "\n",
        "Обычно этот файл называется requirements.txt(но это не обязательно) и содержит список модулей и их версий, чтобы ваша программа успешно работала. Формат одна строчка - один пакет.\n",
        "\n",
        "имеет вид(например):"
      ]
    },
    {
      "cell_type": "markdown",
      "metadata": {
        "id": "Dp3Y_CXLI7Cv",
        "colab_type": "text"
      },
      "source": [
        "```\n",
        "Flask==1.0.2\n",
        "flask_restplus==0.12.1\n",
        "aiohttp==3.5.4\n",
        "Flask-Caching==1.7.0\n",
        "gunicorn==19.9.0\n",
        "sentry-sdk[flask]==0.7.14\n",
        "```\n",
        "\n"
      ]
    },
    {
      "cell_type": "markdown",
      "metadata": {
        "id": "j6ZWeXs0J9bZ",
        "colab_type": "text"
      },
      "source": [
        "Создадим файл requirements.txt для нашей программы currency.py. Он будет выглядеть следующим образом\n",
        "\n",
        "```\n",
        "currencyconverter==0.13.9\n",
        "```"
      ]
    },
    {
      "cell_type": "markdown",
      "metadata": {
        "id": "eEZ39-AFKMt5",
        "colab_type": "text"
      },
      "source": [
        "Теперь например чтобы установить все пакеты из файла requirements.txt, можно выполнить комманду:\n",
        "\n",
        "> pip3 install -r requirements.txt\n",
        "\n",
        "pip3 установит каждый пакет нужной версии из файла"
      ]
    },
    {
      "cell_type": "markdown",
      "metadata": {
        "id": "ah4Jx6_qJTZW",
        "colab_type": "text"
      },
      "source": [
        "# Выводы\n",
        "\n",
        "- Всегда создавайте его и вы будете лучше, чем большинство программистов\n",
        "- Испольщуйте конкретные версии, а не просто имя пакета. Таким образом ваша программа не сломается в случае, если выйдет новая версия пакета, а вашей программе 10 лет, и она не умеет работать с новой версией модуля.\n",
        "- Создавайте файл requirements.txt не потом, а сразу при установки модуля. Потом вы скорее всего забудете его дописать или создать."
      ]
    },
    {
      "cell_type": "markdown",
      "metadata": {
        "id": "wNltXZteKzty",
        "colab_type": "text"
      },
      "source": [
        "# Виртуальное окружение\n",
        "\n",
        "Для начала представим проблему:\n",
        "\n",
        "У вас есть два проекта: \n",
        "\n",
        "проект 1 - использует Django 1.10\n",
        "\n",
        "проект 2 - использует Django 2.2 - (последнюю версию)\n",
        "\n",
        "\n",
        "## Как переключаться между проектами?\n"
      ]
    },
    {
      "cell_type": "markdown",
      "metadata": {
        "id": "_Z5MTNKOLyFc",
        "colab_type": "text"
      },
      "source": [
        "- Можно конечно каждый раз запускать pip3 install -r requirements.txt когда работаешь с конкретным проектом. Решение не очень, так как большие проекты могут иметь много зависимостей и переключение может занимать достаточно большее время.\n",
        "\n",
        "- использовать разные компьютеры и ноутбуки - а если проектов больше двух? а если пяти? Дороговато будет.\n",
        "\n"
      ]
    },
    {
      "cell_type": "markdown",
      "metadata": {
        "id": "1gC2XmCuMb80",
        "colab_type": "text"
      },
      "source": [
        "Решение нам предлагает виртуальное окружение:\n",
        "\n",
        "мы будем использовать виртуальное окружение которое с версии 3.3 питона было встроено. Комманда для создания виртуального окружения:\n",
        "\n",
        "> python3 -m venv env_folder\n",
        "\n",
        "где env_folder - пусть в файловой системе где вы хотите создать ваше виртуальное окружение\n",
        "\n"
      ]
    },
    {
      "cell_type": "markdown",
      "metadata": {
        "id": "yk9SpfpTMzbH",
        "colab_type": "text"
      },
      "source": [
        "Теперь его надо активировать\n",
        "\n",
        "для Linux\\OSx\n",
        "```\n",
        "source env_folder/bin/activate\n",
        "```\n",
        "для Windows\n",
        "\n",
        "```\n",
        "./env_folder/bin/activate.bat\n",
        "```"
      ]
    },
    {
      "cell_type": "markdown",
      "metadata": {
        "id": "VT-7Ozr_NnHE",
        "colab_type": "text"
      },
      "source": [
        "Попробуем теперь выполнить комманду вывода всех пакетов:\n",
        "\n",
        "> pip3 list"
      ]
    },
    {
      "cell_type": "markdown",
      "metadata": {
        "id": "9NmQjDg-OEmQ",
        "colab_type": "text"
      },
      "source": [
        "# Выводы\n",
        "\n",
        "- Если вы будете использоватье виртуальное окружение и файл зависимостей будете лучше программировать чем 2/3 всех программистов.\n",
        "\n",
        "- это очень сильно упрощает жизнь, например удаление папки виртуального окружения, также удаляет и все пакеты.\n",
        "\n",
        "- очень полезно если у вас больше одного проекта\n",
        "\n",
        "- иногда пакеты могут конфликтовать друг с другом. тут без виртуально окржения вообще не обойтись\n",
        "\n"
      ]
    },
    {
      "cell_type": "markdown",
      "metadata": {
        "id": "FK5_zb_NOw_P",
        "colab_type": "text"
      },
      "source": [
        "# Домашнее задание\n",
        "\n",
        "Написать программу которая использует пакет currencyconverter. Она должна запросить у пользователя кол-во денег и валюту и вывести сколько это в гривнах."
      ]
    },
    {
      "cell_type": "code",
      "metadata": {
        "id": "-5n1iZHfLUJb",
        "colab_type": "code",
        "colab": {}
      },
      "source": [
        ""
      ],
      "execution_count": 0,
      "outputs": []
    }
  ]
}