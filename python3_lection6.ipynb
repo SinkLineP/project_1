{
  "nbformat": 4,
  "nbformat_minor": 0,
  "metadata": {
    "colab": {
      "name": "python3 lection6.ipynb",
      "version": "0.3.2",
      "provenance": [],
      "include_colab_link": true
    },
    "kernelspec": {
      "name": "python3",
      "display_name": "Python 3"
    }
  },
  "cells": [
    {
      "cell_type": "markdown",
      "metadata": {
        "id": "view-in-github",
        "colab_type": "text"
      },
      "source": [
        "<a href=\"https://colab.research.google.com/github/SinkLineP/project_1/blob/master/python3_lection6.ipynb\" target=\"_parent\"><img src=\"https://colab.research.google.com/assets/colab-badge.svg\" alt=\"Open In Colab\"/></a>"
      ]
    },
    {
      "cell_type": "markdown",
      "metadata": {
        "id": "gtnk7ebGNwYN",
        "colab_type": "text"
      },
      "source": [
        "# Исключения"
      ]
    },
    {
      "cell_type": "markdown",
      "metadata": {
        "id": "okNIjReoNyFv",
        "colab_type": "text"
      },
      "source": [
        "\n",
        "1. Исключения постоянно возникают в любой программе и их не надо бояться\n",
        "2. Обычно коду нужно обрабатывать далеко не все исключения\n",
        "3. Исключения позволют вашему коду работать в разных ситуациях\n",
        "4. Исключения нужно обрабатывать, необработанное исключение завершает программу\n",
        "5. Исключения помогают корректно завершить программу"
      ]
    },
    {
      "cell_type": "code",
      "metadata": {
        "id": "aqQiTq2UOIN8",
        "colab_type": "code",
        "outputId": "bc9c5ab1-6861-4b5b-cf8c-a75763749816",
        "colab": {
          "base_uri": "https://localhost:8080/",
          "height": 164
        }
      },
      "source": [
        "1 / 0"
      ],
      "execution_count": 0,
      "outputs": [
        {
          "output_type": "error",
          "ename": "ZeroDivisionError",
          "evalue": "ignored",
          "traceback": [
            "\u001b[0;31m---------------------------------------------------------------------------\u001b[0m",
            "\u001b[0;31mZeroDivisionError\u001b[0m                         Traceback (most recent call last)",
            "\u001b[0;32m<ipython-input-1-bc757c3fda29>\u001b[0m in \u001b[0;36m<module>\u001b[0;34m()\u001b[0m\n\u001b[0;32m----> 1\u001b[0;31m \u001b[0;36m1\u001b[0m \u001b[0;34m/\u001b[0m \u001b[0;36m0\u001b[0m\u001b[0;34m\u001b[0m\u001b[0;34m\u001b[0m\u001b[0m\n\u001b[0m",
            "\u001b[0;31mZeroDivisionError\u001b[0m: division by zero"
          ]
        }
      ]
    },
    {
      "cell_type": "markdown",
      "metadata": {
        "id": "wHhOm_MXOTZY",
        "colab_type": "text"
      },
      "source": [
        "ну вы можете сказать, ну кто делит на 0? А если так?"
      ]
    },
    {
      "cell_type": "code",
      "metadata": {
        "id": "x-5qMsr_OXUs",
        "colab_type": "code",
        "outputId": "5c3a4337-9f08-4d29-9281-7cd30a4366f8",
        "colab": {
          "base_uri": "https://localhost:8080/",
          "height": 215
        }
      },
      "source": [
        "print('Enter number')\n",
        "x = int(input())"
      ],
      "execution_count": 0,
      "outputs": [
        {
          "output_type": "stream",
          "text": [
            "Enter number\n",
            "sdf\n"
          ],
          "name": "stdout"
        },
        {
          "output_type": "error",
          "ename": "ValueError",
          "evalue": "ignored",
          "traceback": [
            "\u001b[0;31m---------------------------------------------------------------------------\u001b[0m",
            "\u001b[0;31mValueError\u001b[0m                                Traceback (most recent call last)",
            "\u001b[0;32m<ipython-input-2-f7bb7c96e3c3>\u001b[0m in \u001b[0;36m<module>\u001b[0;34m()\u001b[0m\n\u001b[1;32m      1\u001b[0m \u001b[0mprint\u001b[0m\u001b[0;34m(\u001b[0m\u001b[0;34m'Enter number'\u001b[0m\u001b[0;34m)\u001b[0m\u001b[0;34m\u001b[0m\u001b[0;34m\u001b[0m\u001b[0m\n\u001b[0;32m----> 2\u001b[0;31m \u001b[0mx\u001b[0m \u001b[0;34m=\u001b[0m \u001b[0mint\u001b[0m\u001b[0;34m(\u001b[0m\u001b[0minput\u001b[0m\u001b[0;34m(\u001b[0m\u001b[0;34m)\u001b[0m\u001b[0;34m)\u001b[0m\u001b[0;34m\u001b[0m\u001b[0;34m\u001b[0m\u001b[0m\n\u001b[0m",
            "\u001b[0;31mValueError\u001b[0m: invalid literal for int() with base 10: 'sdf'"
          ]
        }
      ]
    },
    {
      "cell_type": "markdown",
      "metadata": {
        "id": "stgESuaROjeB",
        "colab_type": "text"
      },
      "source": [
        "Мы ожидали число а пользователь по ошибке ввел строку... Иногда это нормально что программа упала, но в большинстве случаев нужно сказать пользователю что нужно ввести именно число!\n",
        "\n",
        "Общий синтаксис исключений:"
      ]
    },
    {
      "cell_type": "code",
      "metadata": {
        "id": "0UMDNS9ePDnI",
        "colab_type": "code",
        "outputId": "3bf9a7a2-58f2-4ad0-d1a2-484deee47338",
        "colab": {
          "base_uri": "https://localhost:8080/",
          "height": 85
        }
      },
      "source": [
        "try:\n",
        "  # защищаемый код\n",
        "  print('Введите число')\n",
        "  x = int(input())\n",
        "except ValueError as e:  \n",
        "  # делаем в случае ошибки\n",
        "  # ValueError это тип исключения\n",
        "  # Поднимается, когда встроенная операция или функция получает аргумент поддерживаемого типа,\n",
        "  # но с неподдерживаемым значением, и при этом ситуация\n",
        "  # не может быть описана более конкретным исключением\n",
        "  print('Число введено не правильно')\n",
        "finally:\n",
        "  # будет запещено в луюбом случае в независимости от того выполнился успешно или нет\n",
        "  print('Я выполнюсь в любом случае')"
      ],
      "execution_count": 0,
      "outputs": [
        {
          "output_type": "stream",
          "text": [
            "Введите число\n",
            "\n",
            "Число введено не правильно\n",
            "Я выполнюсь в любом случае\n"
          ],
          "name": "stdout"
        }
      ]
    },
    {
      "cell_type": "markdown",
      "metadata": {
        "id": "Rh6uUilsTgye",
        "colab_type": "text"
      },
      "source": [
        "Другой пример"
      ]
    },
    {
      "cell_type": "code",
      "metadata": {
        "id": "S1pPBY-pTgMb",
        "colab_type": "code",
        "outputId": "6e3d15bc-ef04-41ee-ad3f-e9fa00687026",
        "colab": {
          "base_uri": "https://localhost:8080/",
          "height": 300
        }
      },
      "source": [
        "try:\n",
        "  print('Введите расстояние в метрах')\n",
        "  d = int(input())\n",
        "  print('Введите время в секундах')\n",
        "  t = int(input())\n",
        "  \n",
        "  print(f'Скорость {d / t}')\n",
        "except ZeroDivisionError:\n",
        "  print('Время не может быть нулем')\n"
      ],
      "execution_count": 0,
      "outputs": [
        {
          "output_type": "stream",
          "text": [
            "Введите расстояние в метрах\n",
            "1\n",
            "Введите время в секундах\n",
            "0\n"
          ],
          "name": "stdout"
        },
        {
          "output_type": "error",
          "ename": "ZeroDivisionError",
          "evalue": "ignored",
          "traceback": [
            "\u001b[0;31m---------------------------------------------------------------------------\u001b[0m",
            "\u001b[0;31mZeroDivisionError\u001b[0m                         Traceback (most recent call last)",
            "\u001b[0;32m<ipython-input-7-50030ccdd8d1>\u001b[0m in \u001b[0;36m<module>\u001b[0;34m()\u001b[0m\n\u001b[1;32m      5\u001b[0m   \u001b[0mt\u001b[0m \u001b[0;34m=\u001b[0m \u001b[0mint\u001b[0m\u001b[0;34m(\u001b[0m\u001b[0minput\u001b[0m\u001b[0;34m(\u001b[0m\u001b[0;34m)\u001b[0m\u001b[0;34m)\u001b[0m\u001b[0;34m\u001b[0m\u001b[0;34m\u001b[0m\u001b[0m\n\u001b[1;32m      6\u001b[0m \u001b[0;34m\u001b[0m\u001b[0m\n\u001b[0;32m----> 7\u001b[0;31m   \u001b[0mprint\u001b[0m\u001b[0;34m(\u001b[0m\u001b[0;34mf'Скорость {d / t}'\u001b[0m\u001b[0;34m)\u001b[0m\u001b[0;34m\u001b[0m\u001b[0;34m\u001b[0m\u001b[0m\n\u001b[0m\u001b[1;32m      8\u001b[0m \u001b[0;32mexcept\u001b[0m \u001b[0mValueError\u001b[0m\u001b[0;34m:\u001b[0m\u001b[0;34m\u001b[0m\u001b[0;34m\u001b[0m\u001b[0m\n\u001b[1;32m      9\u001b[0m   \u001b[0;32mpass\u001b[0m\u001b[0;34m\u001b[0m\u001b[0;34m\u001b[0m\u001b[0m\n",
            "\u001b[0;31mZeroDivisionError\u001b[0m: division by zero"
          ]
        }
      ]
    },
    {
      "cell_type": "markdown",
      "metadata": {
        "id": "ks_zhejLO3mO",
        "colab_type": "text"
      },
      "source": [
        "Исключения это тоже класс и их можно наследовать, базовый класс для всех исключений Exception. Если вы хотите поймать все исключения то нужно использовать его"
      ]
    },
    {
      "cell_type": "code",
      "metadata": {
        "id": "NSCHJEIVO0Al",
        "colab_type": "code",
        "outputId": "9ea990d7-5169-43d1-97b1-c60600b86216",
        "colab": {
          "base_uri": "https://localhost:8080/",
          "height": 34
        }
      },
      "source": [
        "try:\n",
        "  1 / 0\n",
        "  int('sdf')\n",
        "except Exception as e:\n",
        "  print(str(e))"
      ],
      "execution_count": 0,
      "outputs": [
        {
          "output_type": "stream",
          "text": [
            "invalid literal for int() with base 10: 'sdf'\n"
          ],
          "name": "stdout"
        }
      ]
    },
    {
      "cell_type": "markdown",
      "metadata": {
        "id": "6CR-xMjAUxWL",
        "colab_type": "text"
      },
      "source": [
        "Обработчиков исключений може быть несколько, и они обрабатываются по порядку. первый совпавший срабатывает (обраобтчик). Поэтому более общие исключения такие как Exception нужно размещать в конце."
      ]
    },
    {
      "cell_type": "code",
      "metadata": {
        "id": "H0B0h_KqUoQV",
        "colab_type": "code",
        "outputId": "040c90d8-a926-4c18-d7ab-008a79246499",
        "colab": {
          "base_uri": "https://localhost:8080/",
          "height": 34
        }
      },
      "source": [
        "try:\n",
        "  1 / 0\n",
        "except ZeroDivisionError:\n",
        "  print('division by zero')\n",
        "except Exception:\n",
        "  print('General exception')"
      ],
      "execution_count": 0,
      "outputs": [
        {
          "output_type": "stream",
          "text": [
            "division by zero\n"
          ],
          "name": "stdout"
        }
      ]
    },
    {
      "cell_type": "markdown",
      "metadata": {
        "id": "SWpFlTidVIMa",
        "colab_type": "text"
      },
      "source": [
        "Вот так НЕ ПРАВИЛЬНО!!!"
      ]
    },
    {
      "cell_type": "code",
      "metadata": {
        "id": "F31xvC0HVLIJ",
        "colab_type": "code",
        "outputId": "f17176d2-7bf8-4e15-871f-dad0d8ae29af",
        "colab": {
          "base_uri": "https://localhost:8080/",
          "height": 34
        }
      },
      "source": [
        "try:\n",
        "  1 / 0\n",
        "except Exception:\n",
        "  print('General exception')\n",
        "except ZeroDivisionError:\n",
        "  print('division by zero')\n",
        "  "
      ],
      "execution_count": 0,
      "outputs": [
        {
          "output_type": "stream",
          "text": [
            "General exception\n"
          ],
          "name": "stdout"
        }
      ]
    },
    {
      "cell_type": "markdown",
      "metadata": {
        "id": "RYhQf21pVS77",
        "colab_type": "text"
      },
      "source": [
        "Блок finally всегда один"
      ]
    },
    {
      "cell_type": "code",
      "metadata": {
        "id": "SCDTErrCVMiG",
        "colab_type": "code",
        "outputId": "7d7e5663-94a6-4b22-9617-dce077ac6ec3",
        "colab": {
          "base_uri": "https://localhost:8080/",
          "height": 130
        }
      },
      "source": [
        "try:\n",
        "  1 / 0\n",
        "finally:\n",
        "  print('f1')\n",
        "finally:\n",
        "  print('f2')"
      ],
      "execution_count": 0,
      "outputs": [
        {
          "output_type": "error",
          "ename": "SyntaxError",
          "evalue": "ignored",
          "traceback": [
            "\u001b[0;36m  File \u001b[0;32m\"<ipython-input-12-153d872c3224>\"\u001b[0;36m, line \u001b[0;32m5\u001b[0m\n\u001b[0;31m    finally:\u001b[0m\n\u001b[0m          ^\u001b[0m\n\u001b[0;31mSyntaxError\u001b[0m\u001b[0;31m:\u001b[0m invalid syntax\n"
          ]
        }
      ]
    },
    {
      "cell_type": "markdown",
      "metadata": {
        "id": "hbFWOPxCVayw",
        "colab_type": "text"
      },
      "source": [
        "Синтаксические ошибки тоже ошибки и их тоже можно обрабатывать. но не так просто"
      ]
    },
    {
      "cell_type": "code",
      "metadata": {
        "id": "mJSZEp1EVY4U",
        "colab_type": "code",
        "outputId": "59e9e21b-99cb-41f2-b036-f0b747f01782",
        "colab": {
          "base_uri": "https://localhost:8080/",
          "height": 130
        }
      },
      "source": [
        "try:\n",
        "  for i in range(5)\n",
        "    print(i)\n",
        "except SyntaxError:\n",
        "  print('Bad code')"
      ],
      "execution_count": 0,
      "outputs": [
        {
          "output_type": "error",
          "ename": "SyntaxError",
          "evalue": "ignored",
          "traceback": [
            "\u001b[0;36m  File \u001b[0;32m\"<ipython-input-16-362717ffe3aa>\"\u001b[0;36m, line \u001b[0;32m2\u001b[0m\n\u001b[0;31m    for i in range(5)\u001b[0m\n\u001b[0m                     ^\u001b[0m\n\u001b[0;31mSyntaxError\u001b[0m\u001b[0;31m:\u001b[0m invalid syntax\n"
          ]
        }
      ]
    },
    {
      "cell_type": "code",
      "metadata": {
        "id": "WcFeGOd_VlO6",
        "colab_type": "code",
        "outputId": "baf77787-3a1e-4418-993d-d7eb5d647359",
        "colab": {
          "base_uri": "https://localhost:8080/",
          "height": 119
        }
      },
      "source": [
        "try:\n",
        "  exec(\"\"\"\n",
        "for i in range(5)\n",
        "  print(i)\n",
        "  \"\"\")\n",
        "except SyntaxError:\n",
        "  print('Bad code')\n",
        "  \n",
        "try:\n",
        "  exec(\"\"\"\n",
        "for i in range(5):\n",
        "  print(i)\n",
        "  \"\"\")\n",
        "except SyntaxError:\n",
        "  print('Bad code')  "
      ],
      "execution_count": 0,
      "outputs": [
        {
          "output_type": "stream",
          "text": [
            "Bad code\n",
            "0\n",
            "1\n",
            "2\n",
            "3\n",
            "4\n"
          ],
          "name": "stdout"
        }
      ]
    },
    {
      "cell_type": "markdown",
      "metadata": {
        "id": "hIObHuC_WHWm",
        "colab_type": "text"
      },
      "source": [
        "Плохой стиль программирования просто игнорировать ошибки. Этот код кажется рабочим, но это не так"
      ]
    },
    {
      "cell_type": "code",
      "metadata": {
        "id": "v9UDxrI4V9Rp",
        "colab_type": "code",
        "colab": {}
      },
      "source": [
        "try:\n",
        "  print(1 / 0)\n",
        "except Exception:\n",
        "  pass"
      ],
      "execution_count": 0,
      "outputs": []
    },
    {
      "cell_type": "markdown",
      "metadata": {
        "id": "Ul1KPIN5WjKO",
        "colab_type": "text"
      },
      "source": [
        "Что если я обнаружил ошибку и хочу вызвать исключение? для этого используется оператор raise"
      ]
    },
    {
      "cell_type": "code",
      "metadata": {
        "id": "UL6kBcKUWPbG",
        "colab_type": "code",
        "outputId": "0ddd73d1-8ed8-4273-86d9-a9a6bb387383",
        "colab": {
          "base_uri": "https://localhost:8080/",
          "height": 51
        }
      },
      "source": [
        "try:\n",
        "  x = int(input())\n",
        "  if x == 13:\n",
        "    raise Exception('Это число запрещено')\n",
        "  print(x)\n",
        "except Exception as e:\n",
        "  print(str(e))"
      ],
      "execution_count": 0,
      "outputs": [
        {
          "output_type": "stream",
          "text": [
            "13\n",
            "Это число запрещено\n"
          ],
          "name": "stdout"
        }
      ]
    },
    {
      "cell_type": "markdown",
      "metadata": {
        "id": "g5egn3OTXJfe",
        "colab_type": "text"
      },
      "source": [
        "Что если я хочу обработать сразу несколько исключений в одном блоке?"
      ]
    },
    {
      "cell_type": "code",
      "metadata": {
        "id": "1XbI2BLQXP3X",
        "colab_type": "code",
        "outputId": "85eea07a-7477-48ee-af26-46b538e82d10",
        "colab": {
          "base_uri": "https://localhost:8080/",
          "height": 51
        }
      },
      "source": [
        "try:\n",
        "  x = input()\n",
        "  if x == \"1\":\n",
        "    raise TypeError('Do not like this number')\n",
        "  if x == \"2\":\n",
        "    raise ValueError('This number is forbidden')\n",
        "  print(x)\n",
        "except (TypeError, ValueError) as e:\n",
        "  print('Bad number')"
      ],
      "execution_count": 0,
      "outputs": [
        {
          "output_type": "stream",
          "text": [
            "1\n",
            "Bad number\n"
          ],
          "name": "stdout"
        }
      ]
    },
    {
      "cell_type": "markdown",
      "metadata": {
        "id": "wfvgoTL4X2Ps",
        "colab_type": "text"
      },
      "source": [
        "- В Python много встроенных типов исключений, которые можно и нужно использовать при написании функций и методов.\n",
        "- Для объявления нового типа исключения достаточно унаследоваться от базового класса Exception.\n",
        "- Два важных правила при работе с исключениями:\n",
        " - минимизируйте размер ветки try,\n",
        " - всегда старайтесь использовать наиболее специфичный тип исключения в ветке except."
      ]
    },
    {
      "cell_type": "markdown",
      "metadata": {
        "id": "n6-AuryTYa8J",
        "colab_type": "text"
      },
      "source": [
        "# Модули\n",
        "\n",
        "https://code.visualstudio.com/download"
      ]
    },
    {
      "cell_type": "code",
      "metadata": {
        "id": "G2Dw7qZOXiLw",
        "colab_type": "code",
        "colab": {}
      },
      "source": [
        ""
      ],
      "execution_count": 0,
      "outputs": []
    }
  ]
}