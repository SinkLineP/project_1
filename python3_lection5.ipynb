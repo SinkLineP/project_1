{
  "nbformat": 4,
  "nbformat_minor": 0,
  "metadata": {
    "colab": {
      "name": "python3 lection5.ipynb",
      "version": "0.3.2",
      "provenance": [],
      "collapsed_sections": [],
      "include_colab_link": true
    },
    "kernelspec": {
      "name": "python3",
      "display_name": "Python 3"
    }
  },
  "cells": [
    {
      "cell_type": "markdown",
      "metadata": {
        "id": "view-in-github",
        "colab_type": "text"
      },
      "source": [
        "<a href=\"https://colab.research.google.com/github/SinkLineP/project_1/blob/master/python3_lection5.ipynb\" target=\"_parent\"><img src=\"https://colab.research.google.com/assets/colab-badge.svg\" alt=\"Open In Colab\"/></a>"
      ]
    },
    {
      "cell_type": "markdown",
      "metadata": {
        "id": "W5Sc12-8_YxH",
        "colab_type": "text"
      },
      "source": [
        "# Классы"
      ]
    },
    {
      "cell_type": "markdown",
      "metadata": {
        "id": "tXVbO4wABiBl",
        "colab_type": "text"
      },
      "source": [
        "[Класс](https://ru.wikipedia.org/wiki/%D0%9A%D0%BB%D0%B0%D1%81%D1%81_(%D0%BF%D1%80%D0%BE%D0%B3%D1%80%D0%B0%D0%BC%D0%BC%D0%B8%D1%80%D0%BE%D0%B2%D0%B0%D0%BD%D0%B8%D0%B5)) - это элемент ПО, описывающий абстрактный тип данных и его частичную или полную реализацию\n",
        "\n"
      ]
    },
    {
      "cell_type": "code",
      "metadata": {
        "id": "_sNN05NvCb1Q",
        "colab_type": "code",
        "outputId": "88b925f2-5eb6-4ca6-8804-c8536f802c2a",
        "colab": {
          "base_uri": "https://localhost:8080/",
          "height": 51
        }
      },
      "source": [
        "class Human:\n",
        "  name = None\n",
        "  \n",
        "  def __init__(self, _name):\n",
        "    self.name = _name\n",
        "    \n",
        "  def say_hi(self):\n",
        "    print(f\"Hi {self.name}\")\n",
        "    \n",
        "human = Human(\"John\")\n",
        "human.say_hi()\n",
        "\n",
        "human2 = Human(\"Bob\")\n",
        "human2.say_hi()\n"
      ],
      "execution_count": 0,
      "outputs": [
        {
          "output_type": "stream",
          "text": [
            "Hi John\n",
            "Hi Bob\n"
          ],
          "name": "stdout"
        }
      ]
    },
    {
      "cell_type": "markdown",
      "metadata": {
        "id": "RL4w7dd2DAGk",
        "colab_type": "text"
      },
      "source": [
        "1. Важно разделять класс и объект класса (Класс - Human, объект класса - human)\n",
        "2. ИменаКлассвоБезПробеловКаждоеНовоеСловоСБольшойБуквы\n",
        "3. в классах есть специальная функция, называемая конструктор (в питоне это __init__), которая вызывается при создании экземпляра класса\n",
        "4. В классах может хранится (и зачастую хранятся) данные, относящиеся к этому классу, в нашем примере это name\n",
        "5. Атрибуты добавляются к экземпляру посредством присваивания к self конструкцией вида:\n",
        "\n",
        "self.some_attribute = value\n",
        "\n",
        "6. В Python нет модификаторов доступа к атрибутам и методам: почти всё можно читать и присваивать. Но...\n"
      ]
    },
    {
      "cell_type": "code",
      "metadata": {
        "id": "JT23bhiaOMzB",
        "colab_type": "code",
        "outputId": "afdf6619-6707-46b8-ac1b-81ace5dab1c8",
        "colab": {
          "base_uri": "https://localhost:8080/",
          "height": 232
        }
      },
      "source": [
        "\n",
        "class Noop:\n",
        "  some_attribute = 42\n",
        "  _internal_attribute = True\n",
        "  __very_internal_attribute = []\n",
        "  \n",
        "print(Noop.some_attribute)\n",
        "print(Noop._internal_attribute)\n",
        "print(Noop.__very_internal_attribute)"
      ],
      "execution_count": 0,
      "outputs": [
        {
          "output_type": "stream",
          "text": [
            "42\n",
            "True\n"
          ],
          "name": "stdout"
        },
        {
          "output_type": "error",
          "ename": "AttributeError",
          "evalue": "ignored",
          "traceback": [
            "\u001b[0;31m---------------------------------------------------------------------------\u001b[0m",
            "\u001b[0;31mAttributeError\u001b[0m                            Traceback (most recent call last)",
            "\u001b[0;32m<ipython-input-7-72f36ad3dac6>\u001b[0m in \u001b[0;36m<module>\u001b[0;34m()\u001b[0m\n\u001b[1;32m      7\u001b[0m \u001b[0mprint\u001b[0m\u001b[0;34m(\u001b[0m\u001b[0mNoop\u001b[0m\u001b[0;34m.\u001b[0m\u001b[0msome_attribute\u001b[0m\u001b[0;34m)\u001b[0m\u001b[0;34m\u001b[0m\u001b[0;34m\u001b[0m\u001b[0m\n\u001b[1;32m      8\u001b[0m \u001b[0mprint\u001b[0m\u001b[0;34m(\u001b[0m\u001b[0mNoop\u001b[0m\u001b[0;34m.\u001b[0m\u001b[0m_internal_attribute\u001b[0m\u001b[0;34m)\u001b[0m\u001b[0;34m\u001b[0m\u001b[0;34m\u001b[0m\u001b[0m\n\u001b[0;32m----> 9\u001b[0;31m \u001b[0mprint\u001b[0m\u001b[0;34m(\u001b[0m\u001b[0mNoop\u001b[0m\u001b[0;34m.\u001b[0m\u001b[0m__very_internal_attribute\u001b[0m\u001b[0;34m)\u001b[0m\u001b[0;34m\u001b[0m\u001b[0;34m\u001b[0m\u001b[0m\n\u001b[0m",
            "\u001b[0;31mAttributeError\u001b[0m: type object 'Noop' has no attribute '__very_internal_attribute'"
          ]
        }
      ]
    },
    {
      "cell_type": "markdown",
      "metadata": {
        "id": "yKTshbkSMaFn",
        "colab_type": "text"
      },
      "source": [
        "Чтобы узнать тип объекта, достаточно использовать функцию type"
      ]
    },
    {
      "cell_type": "code",
      "metadata": {
        "id": "kCCVtq-VCxl4",
        "colab_type": "code",
        "outputId": "4482b0cd-ebaf-4557-954a-0445b5e99cbe",
        "colab": {
          "base_uri": "https://localhost:8080/",
          "height": 68
        }
      },
      "source": [
        "print(type(human))\n",
        "print(type(human) == Human)\n",
        "print(Human)"
      ],
      "execution_count": 0,
      "outputs": [
        {
          "output_type": "stream",
          "text": [
            "<class '__main__.Human'>\n",
            "True\n",
            "<class '__main__.Human'>\n"
          ],
          "name": "stdout"
        }
      ]
    },
    {
      "cell_type": "code",
      "metadata": {
        "id": "qS5gEUILOt7l",
        "colab_type": "code",
        "outputId": "7af5938b-9d26-49b9-ad71-73e9f76a80e5",
        "colab": {
          "base_uri": "https://localhost:8080/",
          "height": 119
        }
      },
      "source": [
        "class Foo:\n",
        "  \"\"\"empty class \"\"\"\n",
        "  pass\n",
        "  \n",
        "print(Foo.__doc__)\n",
        "print(Foo.__name__)\n",
        "print(Foo.__module__)\n",
        "print(Foo.__bases__)\n",
        "foo = Foo()\n",
        "print(foo.__class__)\n",
        "print(foo.__dict__)"
      ],
      "execution_count": 0,
      "outputs": [
        {
          "output_type": "stream",
          "text": [
            "empty class \n",
            "Foo\n",
            "__main__\n",
            "(<class 'object'>,)\n",
            "<class '__main__.Foo'>\n",
            "{}\n"
          ],
          "name": "stdout"
        }
      ]
    },
    {
      "cell_type": "markdown",
      "metadata": {
        "id": "u5FAPcEzPWZm",
        "colab_type": "text"
      },
      "source": [
        "Механизм свойств позволяет объявлять атрибуты, значение которых вычисляется в момент обращения:"
      ]
    },
    {
      "cell_type": "code",
      "metadata": {
        "id": "0Vmoze88PbxM",
        "colab_type": "code",
        "outputId": "6cf91d5c-9f02-4197-efac-ed1dfda88a7d",
        "colab": {
          "base_uri": "https://localhost:8080/",
          "height": 34
        }
      },
      "source": [
        "import datetime\n",
        "\n",
        "class Time:\n",
        "  @property\n",
        "  def current_second(self):\n",
        "    return datetime.datetime.utcnow().second\n",
        "  \n",
        "t = Time()\n",
        "print(t.current_second)"
      ],
      "execution_count": 0,
      "outputs": [
        {
          "output_type": "stream",
          "text": [
            "51\n"
          ],
          "name": "stdout"
        }
      ]
    },
    {
      "cell_type": "markdown",
      "metadata": {
        "id": "yvlmSNgRPxm1",
        "colab_type": "text"
      },
      "source": [
        "Можно также переопределить логику изменения и удаления таких атрибутов."
      ]
    },
    {
      "cell_type": "code",
      "metadata": {
        "id": "Au937WSpPvls",
        "colab_type": "code",
        "outputId": "e09ad104-d7fd-4572-aee9-b2189a485684",
        "colab": {
          "base_uri": "https://localhost:8080/",
          "height": 51
        }
      },
      "source": [
        "class Counter:\n",
        "  def __init__(self):\n",
        "    self._count = 0\n",
        "    \n",
        "  @property\n",
        "  def counter(self):\n",
        "    return self._count\n",
        "  \n",
        "  @counter.setter\n",
        "  def counter(self, val):\n",
        "    self._count = val\n",
        "    \n",
        "c = Counter()\n",
        "print(c.counter)\n",
        "c.counter = 10\n",
        "print(c.counter)"
      ],
      "execution_count": 0,
      "outputs": [
        {
          "output_type": "stream",
          "text": [
            "0\n",
            "10\n"
          ],
          "name": "stdout"
        }
      ]
    },
    {
      "cell_type": "markdown",
      "metadata": {
        "id": "2DIBfbLfMuLW",
        "colab_type": "text"
      },
      "source": [
        "[ООП](https://ru.wikipedia.org/wiki/Объектно-ориентированное_программирование) (объектно ориентированное программирование) методология программирования, основанная на представлении программы в виде совокупности объектов, каждый из которых является экземпляром определённого класса, а классы образуют иерархию наследования\n",
        "\n",
        "\n",
        "## Зачем нужны классы\n",
        "\n",
        "Реализуют следующие парадигмы программирования\n",
        "1. Наследование\n",
        "2. Инкапсуляцию\n",
        "3. Полиморфизм\n"
      ]
    },
    {
      "cell_type": "markdown",
      "metadata": {
        "id": "AZvdnlp3QeF1",
        "colab_type": "text"
      },
      "source": [
        "# Наследование\n",
        "\n",
        "Синтаксис оператора class позволяет унаследовать объявляемый класс от произвольного количества других классов:"
      ]
    },
    {
      "cell_type": "code",
      "metadata": {
        "id": "ErA8Ct6XMhr3",
        "colab_type": "code",
        "colab": {}
      },
      "source": [
        "class Counter:\n",
        "  def __init__(self, initial=0):\n",
        "    self.value = initial\n",
        "\n",
        "class OtherCounter(Counter):\n",
        "  def get(self):\n",
        "    return self.value"
      ],
      "execution_count": 0,
      "outputs": []
    },
    {
      "cell_type": "markdown",
      "metadata": {
        "id": "MZpjOjZXQrkl",
        "colab_type": "text"
      },
      "source": [
        "Перегрузка методов и функция super"
      ]
    },
    {
      "cell_type": "code",
      "metadata": {
        "id": "9W6jH0E3Qydm",
        "colab_type": "code",
        "outputId": "67f7d3a0-35eb-4043-e2b3-c7dc5fab4839",
        "colab": {
          "base_uri": "https://localhost:8080/",
          "height": 34
        }
      },
      "source": [
        "class Counter:\n",
        "  def __init__(self, initial=0):\n",
        "    self.value = initial\n",
        "\n",
        "class OtherCounter(Counter):\n",
        "  def __init__(self, initial=0):\n",
        "    self.initial = initial + 1\n",
        "    super().__init__(initial)\n",
        "    \n",
        "c = OtherCounter()\n",
        "print(c.value, c.initial)"
      ],
      "execution_count": 0,
      "outputs": [
        {
          "output_type": "stream",
          "text": [
            "0 1\n"
          ],
          "name": "stdout"
        }
      ]
    },
    {
      "cell_type": "markdown",
      "metadata": {
        "id": "nIt9Ub_yRMV5",
        "colab_type": "text"
      },
      "source": [
        "Python не запрещает множественное наследование, например, можно определить следующую иерархию:"
      ]
    },
    {
      "cell_type": "code",
      "metadata": {
        "id": "F_wn_pojRA2M",
        "colab_type": "code",
        "outputId": "26c8ba88-fb6a-42bf-bb4e-d42b8a6b11ed",
        "colab": {
          "base_uri": "https://localhost:8080/",
          "height": 34
        }
      },
      "source": [
        "class A:\n",
        "  def f(self):\n",
        "    print(\"A.f\")\n",
        "    \n",
        "class B:\n",
        "  def f(self):\n",
        "    print(\"B.f\")\n",
        "    \n",
        "class C(A, B):\n",
        "  pass\n",
        "\n",
        "# что выведет следующий фрагмент кода?\n",
        "c = C()\n",
        "c.f()"
      ],
      "execution_count": 0,
      "outputs": [
        {
          "output_type": "stream",
          "text": [
            "A.f\n"
          ],
          "name": "stdout"
        }
      ]
    },
    {
      "cell_type": "markdown",
      "metadata": {
        "id": "YwPSnlkiRkyp",
        "colab_type": "text"
      },
      "source": [
        "В случае множественного наследования Python использует алгоритм линеаризации C3 для определения метода, который нужно вызвать.\n",
        "\n",
        "Получить линеаризацию иерархии наследования можно с помощью метода mro:"
      ]
    },
    {
      "cell_type": "code",
      "metadata": {
        "id": "Cpf7LlKvRcfI",
        "colab_type": "code",
        "outputId": "8210e99f-126b-406d-f59c-3f36f575aaa2",
        "colab": {
          "base_uri": "https://localhost:8080/",
          "height": 34
        }
      },
      "source": [
        "print(C.mro())"
      ],
      "execution_count": 0,
      "outputs": [
        {
          "output_type": "stream",
          "text": [
            "[<class '__main__.C'>, <class '__main__.A'>, <class '__main__.B'>, <class 'object'>]\n"
          ],
          "name": "stdout"
        }
      ]
    },
    {
      "cell_type": "markdown",
      "metadata": {
        "id": "V8d8FeyBRvHe",
        "colab_type": "text"
      },
      "source": [
        "Результат работы алгоритма C3 далеко не всегда тривиален, поэтому использовать сложные иерархии множественого наследования не рекомендуется."
      ]
    },
    {
      "cell_type": "markdown",
      "metadata": {
        "id": "bPGiCLH_R1D-",
        "colab_type": "text"
      },
      "source": [
        "Классы-примеси позволяют выборочно модифицировать поведение класса в предположении, что класс реализует некоторый интерфейс."
      ]
    },
    {
      "cell_type": "markdown",
      "metadata": {
        "id": "X6y4Dz3MSIy1",
        "colab_type": "text"
      },
      "source": [
        "В отличие от большинства объектно-ориентированных языков Python:\n",
        "\n",
        "- делает передачу ссылки на экземпляр явной, self - первый аргумент каждого метода\n",
        "- реализует механим свойств динамически вычисляемых атрибутов,\n",
        "- поддерживает изменение классов с помощью декораторов"
      ]
    },
    {
      "cell_type": "markdown",
      "metadata": {
        "id": "yLTZg4uISnxB",
        "colab_type": "text"
      },
      "source": [
        "# “Магические” методы\n",
        "\n",
        "\n",
        "1 “Магическими” называются внутренние методы классов, например, метод \\_\\_init__.\n",
        "2 С помощью “магических” методов можно:\n",
        "- управлять доступом к атрибутам экземпляра,\n",
        "- перегрузить операторы, например, операторы сравнения или арифметические операторы,\n",
        "- определить строковое представление экземпляра или изменить способ его хеширования.\n",
        "3 Мы рассмотрим только часть наиболее используемых методов."
      ]
    },
    {
      "cell_type": "code",
      "metadata": {
        "id": "qx2AqV1xRqhm",
        "colab_type": "code",
        "outputId": "f10f9119-7308-4a28-954f-e728527eea84",
        "colab": {
          "base_uri": "https://localhost:8080/",
          "height": 215
        }
      },
      "source": [
        "class Noop:\n",
        "  pass\n",
        "\n",
        "noop = Noop()\n",
        "print(noop.foo)"
      ],
      "execution_count": 0,
      "outputs": [
        {
          "output_type": "error",
          "ename": "AttributeError",
          "evalue": "ignored",
          "traceback": [
            "\u001b[0;31m---------------------------------------------------------------------------\u001b[0m",
            "\u001b[0;31mAttributeError\u001b[0m                            Traceback (most recent call last)",
            "\u001b[0;32m<ipython-input-23-465f2faffe3c>\u001b[0m in \u001b[0;36m<module>\u001b[0;34m()\u001b[0m\n\u001b[1;32m      3\u001b[0m \u001b[0;34m\u001b[0m\u001b[0m\n\u001b[1;32m      4\u001b[0m \u001b[0mnoop\u001b[0m \u001b[0;34m=\u001b[0m \u001b[0mNoop\u001b[0m\u001b[0;34m(\u001b[0m\u001b[0;34m)\u001b[0m\u001b[0;34m\u001b[0m\u001b[0;34m\u001b[0m\u001b[0m\n\u001b[0;32m----> 5\u001b[0;31m \u001b[0mprint\u001b[0m\u001b[0;34m(\u001b[0m\u001b[0mnoop\u001b[0m\u001b[0;34m.\u001b[0m\u001b[0mfoo\u001b[0m\u001b[0;34m)\u001b[0m\u001b[0;34m\u001b[0m\u001b[0;34m\u001b[0m\u001b[0m\n\u001b[0m\u001b[1;32m      6\u001b[0m \u001b[0;34m\u001b[0m\u001b[0m\n",
            "\u001b[0;31mAttributeError\u001b[0m: 'Noop' object has no attribute 'foo'"
          ]
        }
      ]
    },
    {
      "cell_type": "code",
      "metadata": {
        "id": "hB1VJ-SmTIk4",
        "colab_type": "code",
        "outputId": "3a02830b-66fc-49e1-9068-3f24893c8869",
        "colab": {
          "base_uri": "https://localhost:8080/",
          "height": 34
        }
      },
      "source": [
        "class Noop:\n",
        "  def __getattr__(self, name):\n",
        "    return name\n",
        "  \n",
        "noop = Noop()\n",
        "print(noop.foo)"
      ],
      "execution_count": 0,
      "outputs": [
        {
          "output_type": "stream",
          "text": [
            "foo\n"
          ],
          "name": "stdout"
        }
      ]
    },
    {
      "cell_type": "markdown",
      "metadata": {
        "id": "Ah6xta2MTS4P",
        "colab_type": "text"
      },
      "source": [
        "- Методы \\_\\_setattr__ и \\_\\_delattr__ позволяют управлять изменением значения и удалением атрибутов.\n",
        "- В отличие от \\_\\_getattr__ они вызываются для всех атрибутов, а не только для несуществующих.\n",
        "\n",
        "- Пример, запрещающий изменять значение некоторых атрибутов:"
      ]
    },
    {
      "cell_type": "code",
      "metadata": {
        "id": "d5NYNJuoTF4n",
        "colab_type": "code",
        "outputId": "fbde148f-fdac-4832-d430-d56f15f092af",
        "colab": {
          "base_uri": "https://localhost:8080/",
          "height": 334
        }
      },
      "source": [
        "class Guarded:\n",
        "  guarded = [\"test\"]\n",
        "\n",
        "  def __setattr__(self, name, value):\n",
        "    assert name not in self.guarded\n",
        "    super().__setattr__(name, value)\n",
        "    \n",
        "g = Guarded()\n",
        "\n",
        "g.testtemp = \"None\"\n",
        "\n",
        "g.test = \"123\"\n",
        "\n"
      ],
      "execution_count": 0,
      "outputs": [
        {
          "output_type": "error",
          "ename": "AssertionError",
          "evalue": "ignored",
          "traceback": [
            "\u001b[0;31m---------------------------------------------------------------------------\u001b[0m",
            "\u001b[0;31mAssertionError\u001b[0m                            Traceback (most recent call last)",
            "\u001b[0;32m<ipython-input-26-4f4a79f58dae>\u001b[0m in \u001b[0;36m<module>\u001b[0;34m()\u001b[0m\n\u001b[1;32m     10\u001b[0m \u001b[0mg\u001b[0m\u001b[0;34m.\u001b[0m\u001b[0mtesttemp\u001b[0m \u001b[0;34m=\u001b[0m \u001b[0;34m\"None\"\u001b[0m\u001b[0;34m\u001b[0m\u001b[0;34m\u001b[0m\u001b[0m\n\u001b[1;32m     11\u001b[0m \u001b[0;34m\u001b[0m\u001b[0m\n\u001b[0;32m---> 12\u001b[0;31m \u001b[0mg\u001b[0m\u001b[0;34m.\u001b[0m\u001b[0mtest\u001b[0m \u001b[0;34m=\u001b[0m \u001b[0;34m\"123\"\u001b[0m\u001b[0;34m\u001b[0m\u001b[0;34m\u001b[0m\u001b[0m\n\u001b[0m\u001b[1;32m     13\u001b[0m \u001b[0;34m\u001b[0m\u001b[0m\n",
            "\u001b[0;32m<ipython-input-26-4f4a79f58dae>\u001b[0m in \u001b[0;36m__setattr__\u001b[0;34m(self, name, value)\u001b[0m\n\u001b[1;32m      3\u001b[0m \u001b[0;34m\u001b[0m\u001b[0m\n\u001b[1;32m      4\u001b[0m   \u001b[0;32mdef\u001b[0m \u001b[0m__setattr__\u001b[0m\u001b[0;34m(\u001b[0m\u001b[0mself\u001b[0m\u001b[0;34m,\u001b[0m \u001b[0mname\u001b[0m\u001b[0;34m,\u001b[0m \u001b[0mvalue\u001b[0m\u001b[0;34m)\u001b[0m\u001b[0;34m:\u001b[0m\u001b[0;34m\u001b[0m\u001b[0;34m\u001b[0m\u001b[0m\n\u001b[0;32m----> 5\u001b[0;31m     \u001b[0;32massert\u001b[0m \u001b[0mname\u001b[0m \u001b[0;32mnot\u001b[0m \u001b[0;32min\u001b[0m \u001b[0mself\u001b[0m\u001b[0;34m.\u001b[0m\u001b[0mguarded\u001b[0m\u001b[0;34m\u001b[0m\u001b[0;34m\u001b[0m\u001b[0m\n\u001b[0m\u001b[1;32m      6\u001b[0m     \u001b[0msuper\u001b[0m\u001b[0;34m(\u001b[0m\u001b[0;34m)\u001b[0m\u001b[0;34m.\u001b[0m\u001b[0m__setattr__\u001b[0m\u001b[0;34m(\u001b[0m\u001b[0mname\u001b[0m\u001b[0;34m,\u001b[0m \u001b[0mvalue\u001b[0m\u001b[0;34m)\u001b[0m\u001b[0;34m\u001b[0m\u001b[0;34m\u001b[0m\u001b[0m\n\u001b[1;32m      7\u001b[0m \u001b[0;34m\u001b[0m\u001b[0m\n",
            "\u001b[0;31mAssertionError\u001b[0m: "
          ]
        }
      ]
    },
    {
      "cell_type": "markdown",
      "metadata": {
        "id": "N7PC3gC_UI5-",
        "colab_type": "text"
      },
      "source": [
        "Метод \\_\\_call__ позволяет “вызывать” экземпляры классов, имитируя интерфейс фнукций:\n"
      ]
    },
    {
      "cell_type": "code",
      "metadata": {
        "id": "OxIha6_ITrY9",
        "colab_type": "code",
        "outputId": "d36e3233-cc4e-4548-8e38-9532ed57610f",
        "colab": {
          "base_uri": "https://localhost:8080/",
          "height": 51
        }
      },
      "source": [
        "class Identity:\n",
        "  def __call__(self, x):\n",
        "    return x\n",
        "\n",
        "iden = Identity()\n",
        "print(type(iden))\n",
        "print(iden(42))"
      ],
      "execution_count": 0,
      "outputs": [
        {
          "output_type": "stream",
          "text": [
            "<class '__main__.Identity'>\n",
            "42\n"
          ],
          "name": "stdout"
        }
      ]
    },
    {
      "cell_type": "markdown",
      "metadata": {
        "id": "en6DmvBOUrHK",
        "colab_type": "text"
      },
      "source": [
        "в Python есть две различных по смыслу функции для преобразования объекта в строку: repr и str.\n",
        "Для каждой из них существует одноимённый “магический” метод:\n"
      ]
    },
    {
      "cell_type": "code",
      "metadata": {
        "id": "dC5ssqHjUPGT",
        "colab_type": "code",
        "outputId": "f4b69892-39fd-436e-d8f6-3018ba448b87",
        "colab": {
          "base_uri": "https://localhost:8080/",
          "height": 34
        }
      },
      "source": [
        "class Counter:\n",
        "  def __init__(self, initial=0):\n",
        "    self.value = initial\n",
        "\n",
        "  def __repr__(self):\n",
        "    return \"Counter({})\".format(self.value)\n",
        "\n",
        "  def __str__(self):\n",
        "    return \"Counted to {}\".format(self.value)\n",
        "  \n",
        "c = Counter(42)\n",
        "print(c)"
      ],
      "execution_count": 0,
      "outputs": [
        {
          "output_type": "stream",
          "text": [
            "Counted to 42\n"
          ],
          "name": "stdout"
        }
      ]
    },
    {
      "cell_type": "markdown",
      "metadata": {
        "id": "lmMk6mJLVOCw",
        "colab_type": "text"
      },
      "source": [
        "# Домашнее задание\n",
        "\n",
        "Создать класс которы получает строку в конструкторе. У класс должен быть метод который выводит кол-во каждого символа в строке. Предыдушее задание но на классах!"
      ]
    }
  ]
}