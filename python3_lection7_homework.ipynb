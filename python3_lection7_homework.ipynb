{
  "nbformat": 4,
  "nbformat_minor": 0,
  "metadata": {
    "colab": {
      "name": "python3 lection7 homework.ipynb",
      "version": "0.3.2",
      "provenance": [],
      "collapsed_sections": [],
      "include_colab_link": true
    },
    "kernelspec": {
      "name": "python3",
      "display_name": "Python 3"
    }
  },
  "cells": [
    {
      "cell_type": "markdown",
      "metadata": {
        "id": "view-in-github",
        "colab_type": "text"
      },
      "source": [
        "<a href=\"https://colab.research.google.com/github/SinkLineP/project_1/blob/master/python3_lection7_homework.ipynb\" target=\"_parent\"><img src=\"https://colab.research.google.com/assets/colab-badge.svg\" alt=\"Open In Colab\"/></a>"
      ]
    },
    {
      "cell_type": "markdown",
      "metadata": {
        "id": "rO5gmc4Q9mbY",
        "colab_type": "text"
      },
      "source": [
        "# Домашнее задание\n",
        "\n",
        "Написать программу которая использует пакет currencyconverter. Она должна запросить у пользователя кол-во денег и валюту и вывести сколько это в долларах."
      ]
    },
    {
      "cell_type": "markdown",
      "metadata": {
        "id": "JUZUOY2p-p0u",
        "colab_type": "text"
      },
      "source": [
        "первое решение"
      ]
    },
    {
      "cell_type": "code",
      "metadata": {
        "id": "jSdYud849P6o",
        "colab_type": "code",
        "colab": {}
      },
      "source": [
        "from currency_converter import CurrencyConverter\n",
        "\n",
        "\n",
        "c = CurrencyConverter('http://www.ecb.europa.eu/stats/eurofxref/eurofxref.zip')\n",
        "print(c.currencies)\n",
        "\n",
        "\n",
        "def currency_validation(currency):\n",
        "    while currency not in c.currencies:\n",
        "        currency = input('Reenter your choice from above ').upper()\n",
        "    return currency\n",
        "\n",
        "\n",
        "def money_input_validation(money):\n",
        "    e = True\n",
        "    while e:\n",
        "        try:\n",
        "            money_return = float(money)\n",
        "            e = False\n",
        "        except ValueError:\n",
        "            money = input('Enter a digit')\n",
        "    return money_return\n",
        "\n",
        "\n",
        "money_to_convert = money_input_validation((input('How much you want to convert? ')))\n",
        "currency_from = currency_validation(input('choose your currency to convert from ').upper())\n",
        "currency_to = currency_validation(input('choose your currency to convert to ').upper())\n",
        "\n",
        "print(c.convert(money_to_convert, currency_from, currency_to))"
      ],
      "execution_count": 0,
      "outputs": []
    },
    {
      "cell_type": "markdown",
      "metadata": {
        "id": "EiWqNxaS-rZx",
        "colab_type": "text"
      },
      "source": [
        "второе решение"
      ]
    },
    {
      "cell_type": "code",
      "metadata": {
        "id": "2qGa020g-fft",
        "colab_type": "code",
        "colab": {}
      },
      "source": [
        "from currency_converter import CurrencyConverter\n",
        "c = CurrencyConverter()\n",
        "\n",
        "print(\"AUD BGN BRL CAD CHF CNY CYP CZK DKK EEK EUR GBP HKD HRK HUF IDR ILS INR ISK JPY KRW LTL LVL MTL MXN MYR NOK NZD PHP PLN ROL RON RUB SEK SGD SIT SKK THB TRL TRY USD ZAR UAH\")\n",
        "print(\"Выберите две валюты для конвертирования!\")\n",
        "\n",
        "one = str(input(\"Введите первую валюту: \"))\n",
        "money = int(input(\"Введите сумму для конвертирования: \"))\n",
        "two = str(input(\"Введите вторую валюту: \"))\n",
        "\n",
        "\n",
        "print(two.upper(), c.convert(\"{}\".format(money), \"{}\".format(one.upper()), \"{}\".format(two.upper())))"
      ],
      "execution_count": 0,
      "outputs": []
    }
  ]
}